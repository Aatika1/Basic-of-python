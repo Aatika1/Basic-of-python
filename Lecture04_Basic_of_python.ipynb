{
  "nbformat": 4,
  "nbformat_minor": 0,
  "metadata": {
    "colab": {
      "provenance": [],
      "authorship_tag": "ABX9TyP6NJcUtM4wqT3+TNc9+w0O",
      "include_colab_link": true
    },
    "kernelspec": {
      "name": "python3",
      "display_name": "Python 3"
    },
    "language_info": {
      "name": "python"
    }
  },
  "cells": [
    {
      "cell_type": "markdown",
      "metadata": {
        "id": "view-in-github",
        "colab_type": "text"
      },
      "source": [
        "<a href=\"https://colab.research.google.com/github/Aatika1/Basic-of-python/blob/main/Lecture04_Basic_of_python.ipynb\" target=\"_parent\"><img src=\"https://colab.research.google.com/assets/colab-badge.svg\" alt=\"Open In Colab\"/></a>"
      ]
    },
    {
      "cell_type": "markdown",
      "source": [
        "#**Basic AI Course**\n"
      ],
      "metadata": {
        "id": "M4P0Gn_ShURl"
      }
    },
    {
      "cell_type": "markdown",
      "source": [
        "Basic of python"
      ],
      "metadata": {
        "id": "EbqMLXLdhsdo"
      }
    },
    {
      "cell_type": "markdown",
      "source": [
        "#1.Variable naming\n",
        "Rules for naming conventions"
      ],
      "metadata": {
        "id": "9P4OOBk2hxLN"
      }
    },
    {
      "cell_type": "code",
      "source": [
        "# Right Variable Decelartion\n",
        "num_students=25"
      ],
      "metadata": {
        "id": "8pWM4kR7iOGU"
      },
      "execution_count": null,
      "outputs": []
    },
    {
      "cell_type": "code",
      "source": [
        "total_sales=100.50"
      ],
      "metadata": {
        "id": "ua6e8gAei4VE"
      },
      "execution_count": null,
      "outputs": []
    },
    {
      "cell_type": "code",
      "source": [
        "student_name=\"AI\""
      ],
      "metadata": {
        "id": "-bjXwpoEjHeL"
      },
      "execution_count": null,
      "outputs": []
    },
    {
      "cell_type": "code",
      "source": [
        "# Print variabels values\n",
        "print(num_students)"
      ],
      "metadata": {
        "colab": {
          "base_uri": "https://localhost:8080/"
        },
        "id": "UcW7gwGvjP-_",
        "outputId": "e5f20ba8-98f8-4bbf-b7f3-09c08ef2e5be"
      },
      "execution_count": null,
      "outputs": [
        {
          "output_type": "stream",
          "name": "stdout",
          "text": [
            "25\n"
          ]
        }
      ]
    },
    {
      "cell_type": "code",
      "source": [
        "print(total_sales)"
      ],
      "metadata": {
        "colab": {
          "base_uri": "https://localhost:8080/"
        },
        "id": "1RPg0immjZtl",
        "outputId": "66cccd61-8500-443e-9bb0-2a876f2d2f34"
      },
      "execution_count": null,
      "outputs": [
        {
          "output_type": "stream",
          "name": "stdout",
          "text": [
            "100.5\n"
          ]
        }
      ]
    },
    {
      "cell_type": "code",
      "source": [
        "print(student_name)"
      ],
      "metadata": {
        "colab": {
          "base_uri": "https://localhost:8080/"
        },
        "id": "2lNpC3qSjd1L",
        "outputId": "6a095eb7-a956-4f87-ad3b-a63604fdc810"
      },
      "execution_count": null,
      "outputs": [
        {
          "output_type": "stream",
          "name": "stdout",
          "text": [
            "AI\n"
          ]
        }
      ]
    },
    {
      "cell_type": "code",
      "source": [
        "# wrong variables decelartions\n",
        "2nd_student=\"Alian\""
      ],
      "metadata": {
        "colab": {
          "base_uri": "https://localhost:8080/",
          "height": 106
        },
        "id": "7MGeL2kxj_QC",
        "outputId": "c1fe8604-a7bb-4d49-febe-f8d03d3854a4"
      },
      "execution_count": null,
      "outputs": [
        {
          "output_type": "error",
          "ename": "SyntaxError",
          "evalue": "invalid decimal literal (<ipython-input-7-a682021a2ca6>, line 2)",
          "traceback": [
            "\u001b[0;36m  File \u001b[0;32m\"<ipython-input-7-a682021a2ca6>\"\u001b[0;36m, line \u001b[0;32m2\u001b[0m\n\u001b[0;31m    2nd_student=\"Alian\"\u001b[0m\n\u001b[0m    ^\u001b[0m\n\u001b[0;31mSyntaxError\u001b[0m\u001b[0;31m:\u001b[0m invalid decimal literal\n"
          ]
        }
      ]
    },
    {
      "cell_type": "code",
      "source": [
        "total-sales=100.50"
      ],
      "metadata": {
        "id": "-Hdp4_1_kK_3"
      },
      "execution_count": null,
      "outputs": []
    },
    {
      "cell_type": "code",
      "source": [
        "# python reserved keyword\n",
        "if=10"
      ],
      "metadata": {
        "colab": {
          "base_uri": "https://localhost:8080/",
          "height": 106
        },
        "id": "PJi3V3ePkrUu",
        "outputId": "1cb78b85-f96a-4c33-9ba9-b71b44a8aca6"
      },
      "execution_count": null,
      "outputs": [
        {
          "output_type": "error",
          "ename": "SyntaxError",
          "evalue": "invalid syntax (<ipython-input-8-4745913c9cfa>, line 2)",
          "traceback": [
            "\u001b[0;36m  File \u001b[0;32m\"<ipython-input-8-4745913c9cfa>\"\u001b[0;36m, line \u001b[0;32m2\u001b[0m\n\u001b[0;31m    if=10\u001b[0m\n\u001b[0m      ^\u001b[0m\n\u001b[0;31mSyntaxError\u001b[0m\u001b[0;31m:\u001b[0m invalid syntax\n"
          ]
        }
      ]
    },
    {
      "cell_type": "code",
      "source": [
        "# wrong variabel decelartion\n",
        "print(2nd_student)\n",
        "print(total-sales)\n",
        "print(if)"
      ],
      "metadata": {
        "colab": {
          "base_uri": "https://localhost:8080/",
          "height": 106
        },
        "id": "Uas-DJYpk3xI",
        "outputId": "e8df2795-47db-4069-c465-4c62be5527d3"
      },
      "execution_count": null,
      "outputs": [
        {
          "output_type": "error",
          "ename": "SyntaxError",
          "evalue": "invalid decimal literal (<ipython-input-9-3286c3526178>, line 2)",
          "traceback": [
            "\u001b[0;36m  File \u001b[0;32m\"<ipython-input-9-3286c3526178>\"\u001b[0;36m, line \u001b[0;32m2\u001b[0m\n\u001b[0;31m    print(2nd_student)\u001b[0m\n\u001b[0m          ^\u001b[0m\n\u001b[0;31mSyntaxError\u001b[0m\u001b[0;31m:\u001b[0m invalid decimal literal\n"
          ]
        }
      ]
    },
    {
      "cell_type": "markdown",
      "source": [
        "#**DATA TYPES**\n",
        "In computer programming data types specify the type of data that can be stord inside variable\n"
      ],
      "metadata": {
        "id": "NajMXdYPlNER"
      }
    },
    {
      "cell_type": "markdown",
      "source": [
        "2.1 data type numeric\n",
        "\n",
        "*   int:12\n",
        "*   float:12.5\n",
        "\n",
        "\n",
        "\n",
        "\n",
        "\n",
        "\n",
        "\n"
      ],
      "metadata": {
        "id": "wjqZMyW7l4BM"
      }
    },
    {
      "cell_type": "markdown",
      "source": [
        "2.2 Data type string\n",
        "\n",
        "\n",
        "*   .str:\"future of AI\"\n",
        "\n",
        "\n"
      ],
      "metadata": {
        "id": "g7R9B8HwmhMl"
      }
    },
    {
      "cell_type": "code",
      "source": [
        "num=23"
      ],
      "metadata": {
        "id": "EcRj63JOnh12"
      },
      "execution_count": null,
      "outputs": []
    },
    {
      "cell_type": "code",
      "source": [
        "num"
      ],
      "metadata": {
        "id": "3TLcBHE2nkVl",
        "outputId": "a2565162-ed14-4d11-c01c-e872c2913acc",
        "colab": {
          "base_uri": "https://localhost:8080/"
        }
      },
      "execution_count": null,
      "outputs": [
        {
          "output_type": "execute_result",
          "data": {
            "text/plain": [
              "23"
            ]
          },
          "metadata": {},
          "execution_count": 12
        }
      ]
    },
    {
      "cell_type": "code",
      "source": [
        "int num1 = 100"
      ],
      "metadata": {
        "id": "WyGckpUXoNU2",
        "outputId": "72672d6e-fa1a-4afc-8527-f62930e5f338",
        "colab": {
          "base_uri": "https://localhost:8080/",
          "height": 106
        }
      },
      "execution_count": null,
      "outputs": [
        {
          "output_type": "error",
          "ename": "SyntaxError",
          "evalue": "invalid syntax (<ipython-input-13-198ee80ed02a>, line 1)",
          "traceback": [
            "\u001b[0;36m  File \u001b[0;32m\"<ipython-input-13-198ee80ed02a>\"\u001b[0;36m, line \u001b[0;32m1\u001b[0m\n\u001b[0;31m    int num1 = 100\u001b[0m\n\u001b[0m        ^\u001b[0m\n\u001b[0;31mSyntaxError\u001b[0m\u001b[0;31m:\u001b[0m invalid syntax\n"
          ]
        }
      ]
    },
    {
      "cell_type": "markdown",
      "source": [
        "Above 23,(an intiger) is assigned to the 'num' variable. So the data type num is of the num"
      ],
      "metadata": {
        "id": "4s-P1DNyoj7v"
      }
    },
    {
      "cell_type": "code",
      "source": [
        "course=\"free AI course\""
      ],
      "metadata": {
        "id": "x530SMgapAaa"
      },
      "execution_count": null,
      "outputs": []
    },
    {
      "cell_type": "code",
      "source": [
        "print(course)"
      ],
      "metadata": {
        "id": "UQznrv3SpKRq",
        "outputId": "31fac24a-dc9e-4aba-b55c-88cd84809f07",
        "colab": {
          "base_uri": "https://localhost:8080/"
        }
      },
      "execution_count": null,
      "outputs": [
        {
          "output_type": "stream",
          "name": "stdout",
          "text": [
            "free AI course\n"
          ]
        }
      ]
    },
    {
      "cell_type": "markdown",
      "source": [
        "Above 'free AI course' (a str) assigned to the 'course' variable so the data type of course is of the str"
      ],
      "metadata": {
        "id": "dMYwUCAoqGVK"
      }
    },
    {
      "cell_type": "code",
      "source": [
        "marks=85.64"
      ],
      "metadata": {
        "id": "a0iOoB76qujh"
      },
      "execution_count": null,
      "outputs": []
    },
    {
      "cell_type": "markdown",
      "source": [
        "Above 'marks' (a float) is assigned to the 'marks' variable so the data type of marks is of the float"
      ],
      "metadata": {
        "id": "M-3NqDrVq0sJ"
      }
    },
    {
      "cell_type": "markdown",
      "source": [
        "#**Task01**\n",
        "Assign values to variables and display their values."
      ],
      "metadata": {
        "id": "Oq4uBX3lrVzT"
      }
    },
    {
      "cell_type": "code",
      "source": [
        "#Assign any str value to variable"
      ],
      "metadata": {
        "id": "WWMsS-NIrndm"
      },
      "execution_count": null,
      "outputs": []
    },
    {
      "cell_type": "code",
      "source": [
        "#Assign any int value to variable"
      ],
      "metadata": {
        "id": "x4D1c9lhryC5"
      },
      "execution_count": null,
      "outputs": []
    },
    {
      "cell_type": "code",
      "source": [
        "#Assign any float value to variable"
      ],
      "metadata": {
        "id": "pTyTJuc6r2EB"
      },
      "execution_count": null,
      "outputs": []
    },
    {
      "cell_type": "markdown",
      "source": [
        "#**Operators**\n",
        "\n",
        "1.   (+)addition\n",
        "2.   (-)subtraction\n",
        "3.   (/)division\n",
        "4.   (**)exponentiation\n",
        "5.   (%)modulous(remainder after division)\n",
        "6.   Comparison Operators are discussed later\n",
        "7.   Python has incorporated operators like+*,but++(or-) do not work in python\n",
        "\n",
        "\n",
        "\n",
        "\n",
        "\n",
        "\n",
        "\n",
        "\n",
        "\n"
      ],
      "metadata": {
        "id": "qJpEgwpOsFbB"
      }
    },
    {
      "cell_type": "code",
      "source": [
        "# Multiply two numbers\n",
        "print(3*4)"
      ],
      "metadata": {
        "id": "ZsXHnE7ut1_n"
      },
      "execution_count": null,
      "outputs": []
    },
    {
      "cell_type": "code",
      "source": [
        "# Display calculate square of number\n",
        "print(3**2)"
      ],
      "metadata": {
        "id": "Q98haQdQt-Gu"
      },
      "execution_count": null,
      "outputs": []
    },
    {
      "cell_type": "code",
      "source": [
        "# calculate the remainder\n",
        "print(16%5)"
      ],
      "metadata": {
        "id": "N7EVEkSQuNvZ"
      },
      "execution_count": null,
      "outputs": []
    },
    {
      "cell_type": "code",
      "source": [
        "# Divide two numbers\n",
        "a = 5.0/10.0\n",
        "a"
      ],
      "metadata": {
        "id": "syOKwewrukID"
      },
      "execution_count": null,
      "outputs": []
    },
    {
      "cell_type": "code",
      "source": [
        "# calculate the Quotient of two numbers\n",
        "b=11//4"
      ],
      "metadata": {
        "id": "uRTr_bHqvCZ5"
      },
      "execution_count": null,
      "outputs": []
    },
    {
      "cell_type": "markdown",
      "source": [
        "**Adding** **two intigers**"
      ],
      "metadata": {
        "id": "a-yCFzn5vkg7"
      }
    },
    {
      "cell_type": "code",
      "source": [
        "num1 = 5\n",
        "num2 = 2\n",
        "sum = num1+num2\n",
        "print(sum)"
      ],
      "metadata": {
        "id": "frFxm3lgvqMX"
      },
      "execution_count": null,
      "outputs": []
    },
    {
      "cell_type": "markdown",
      "source": [
        "#6 Simple program calculate area of rectangle\n",
        "area of rectangle = length * height\n"
      ],
      "metadata": {
        "id": "hjBF-5Z1wLpW"
      }
    },
    {
      "cell_type": "code",
      "source": [
        "# simple program calculate area of rectangle\n",
        "Length = 2.5\n",
        "Height = 3.5\n",
        "area = Length * Height\n",
        "print(area)"
      ],
      "metadata": {
        "id": "MIeuXyLNwl4G",
        "outputId": "ae91c2bd-749b-44da-e70a-f0ce621b7afb",
        "colab": {
          "base_uri": "https://localhost:8080/"
        }
      },
      "execution_count": null,
      "outputs": [
        {
          "output_type": "stream",
          "name": "stdout",
          "text": [
            "8.75\n"
          ]
        }
      ]
    },
    {
      "cell_type": "markdown",
      "source": [
        "##**Task-02**\n",
        "\n",
        "1.   Create a simple python program to swap variables using three variables\n",
        "2.   Create a simple python program to swap variables using only two variables\n",
        "\n"
      ],
      "metadata": {
        "id": "tKgR1_Z9z-qP"
      }
    },
    {
      "cell_type": "code",
      "source": [
        "#Create a simple python program to swap variables using three variables\n",
        "x=12\n",
        "y=14\n",
        "temp=x\n",
        "x=y\n",
        "y=temp\n",
        "print(x)\n",
        "print(y)\n",
        "\n"
      ],
      "metadata": {
        "id": "Zgxfediy1gsd",
        "outputId": "d433680d-6813-410d-d045-f5747b02016e",
        "colab": {
          "base_uri": "https://localhost:8080/"
        }
      },
      "execution_count": 7,
      "outputs": [
        {
          "output_type": "stream",
          "name": "stdout",
          "text": [
            "14\n",
            "12\n"
          ]
        }
      ]
    },
    {
      "cell_type": "code",
      "source": [
        "#Create a simple python program to swap variables using only two variables\n",
        "a=16\n",
        "b=18\n",
        "a,b=b,a\n",
        "print(a)\n",
        "print(b)"
      ],
      "metadata": {
        "id": "_DlGT13wWZ1l",
        "outputId": "ec656b7a-b95a-4e43-fdc0-5ac3883856a4",
        "colab": {
          "base_uri": "https://localhost:8080/"
        }
      },
      "execution_count": 6,
      "outputs": [
        {
          "output_type": "stream",
          "name": "stdout",
          "text": [
            "18\n",
            "16\n"
          ]
        }
      ]
    }
  ]
}