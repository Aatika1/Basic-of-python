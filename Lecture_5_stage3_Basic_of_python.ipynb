{
  "nbformat": 4,
  "nbformat_minor": 0,
  "metadata": {
    "colab": {
      "provenance": [],
      "authorship_tag": "ABX9TyMqwfVDwKiKIpmfeByWH7l6",
      "include_colab_link": true
    },
    "kernelspec": {
      "name": "python3",
      "display_name": "Python 3"
    },
    "language_info": {
      "name": "python"
    }
  },
  "cells": [
    {
      "cell_type": "markdown",
      "metadata": {
        "id": "view-in-github",
        "colab_type": "text"
      },
      "source": [
        "<a href=\"https://colab.research.google.com/github/Aatika1/Basic-of-python/blob/main/Lecture_5_stage3_Basic_of_python.ipynb\" target=\"_parent\"><img src=\"https://colab.research.google.com/assets/colab-badge.svg\" alt=\"Open In Colab\"/></a>"
      ]
    },
    {
      "cell_type": "markdown",
      "source": [
        "#**2-String in python**\n",
        "String in python are surrounded by either single Quotation or double Quotation marks 'hello' is the same as \"hello\" you can display a string literal with the print()function."
      ],
      "metadata": {
        "id": "PS9BXFWzoklD"
      }
    },
    {
      "cell_type": "code",
      "source": [
        "print('hello world')\n",
        "print(\"hello world\")"
      ],
      "metadata": {
        "colab": {
          "base_uri": "https://localhost:8080/"
        },
        "id": "SybgELXnpdy4",
        "outputId": "3630c77e-cd23-4ac7-ca46-650cdd2e0a9b"
      },
      "execution_count": null,
      "outputs": [
        {
          "output_type": "stream",
          "name": "stdout",
          "text": [
            "hello world\n",
            "hello world\n"
          ]
        }
      ]
    },
    {
      "cell_type": "markdown",
      "source": [
        "**Assing String to a variable** Assinging a string to a variable is done with the variable name followed by an equal sign and the str"
      ],
      "metadata": {
        "id": "TV6VNVXAp_2k"
      }
    },
    {
      "cell_type": "code",
      "source": [
        "a = \"hello\"\n",
        "print(a)"
      ],
      "metadata": {
        "colab": {
          "base_uri": "https://localhost:8080/"
        },
        "id": "1Tiwui0Oqj6w",
        "outputId": "f3f985f1-f6c5-41bb-b5f5-49300ad35ecc"
      },
      "execution_count": null,
      "outputs": [
        {
          "output_type": "stream",
          "name": "stdout",
          "text": [
            "hello\n"
          ]
        }
      ]
    },
    {
      "cell_type": "markdown",
      "source": [
        "#**Multiline Strings**\n",
        "you can assign a multiline string to a variable by using three Quotes or three single Quotes"
      ],
      "metadata": {
        "id": "nU6Wve89rMVA"
      }
    },
    {
      "cell_type": "code",
      "source": [
        "a = \"\"\" AI or Artificial Intelligence, refer to the development and Implementation of computer systems\n",
        "or Machine that can perform tasks, that would typically require human Intelligence,\n",
        "It is multidisciplinary field that encompasses various subfield, such as Machine Learning,\n",
        "Natural Language Processing,Computer Vission, robotics, and more\n",
        "\"\"\"\n",
        "print(a)"
      ],
      "metadata": {
        "colab": {
          "base_uri": "https://localhost:8080/"
        },
        "id": "gi-7z_6orwHi",
        "outputId": "c78ff5ed-17ac-4b27-c903-b88e4eea67e0"
      },
      "execution_count": null,
      "outputs": [
        {
          "output_type": "stream",
          "name": "stdout",
          "text": [
            " AI or Artificial Intelligence, refer to the development and Implementation of computer systems\n",
            "or Machine that can perform tasks, that would typically require human Intelligence,\n",
            "It is multidisciplinary field that encompasses various subfield, such as Machine Learning, \n",
            "Natural Language Processing,Computer Vission, robotics, and more \n",
            "\n"
          ]
        }
      ]
    },
    {
      "cell_type": "markdown",
      "source": [
        "#**Modify String**"
      ],
      "metadata": {
        "id": "eztISLiIt43a"
      }
    },
    {
      "cell_type": "markdown",
      "source": [
        "**Upper Case**\n",
        "\n",
        "the upper() method returns the string in upper case"
      ],
      "metadata": {
        "id": "rj1hUgl1t_JS"
      }
    },
    {
      "cell_type": "code",
      "source": [
        "a = \"hello world\"\n",
        "print(a.upper())"
      ],
      "metadata": {
        "colab": {
          "base_uri": "https://localhost:8080/"
        },
        "id": "BbxGK-iXuSxF",
        "outputId": "da95ea88-5617-46b9-bba1-0d2e5b2409af"
      },
      "execution_count": null,
      "outputs": [
        {
          "output_type": "stream",
          "name": "stdout",
          "text": [
            "HELLO WORLD\n"
          ]
        }
      ]
    },
    {
      "cell_type": "markdown",
      "source": [
        "**Lower Case**\n",
        "\n",
        "The lower() method returns the string in lower case"
      ],
      "metadata": {
        "id": "D4aw6EL8uiY_"
      }
    },
    {
      "cell_type": "code",
      "source": [
        "a = \"HELLO WORLD\"\n",
        "print(a.lower())"
      ],
      "metadata": {
        "id": "JisXOxcvu4ax"
      },
      "execution_count": null,
      "outputs": []
    },
    {
      "cell_type": "markdown",
      "source": [
        "#**Remove whitespace**\n",
        "\n",
        "Whitespace is the space before and or after the actual text, and very often you want to remove this space. The strip() method remove any whitespace from the begging and or end"
      ],
      "metadata": {
        "id": "7VvtUuCYwAj_"
      }
    },
    {
      "cell_type": "code",
      "source": [
        "a = \" Hello,World \"\n",
        "print(a.strip()) # returns \"Hello,World\""
      ],
      "metadata": {
        "colab": {
          "base_uri": "https://localhost:8080/"
        },
        "id": "V4heaA9owwWl",
        "outputId": "5554b049-82e8-4884-fd6a-8b5df01d97be"
      },
      "execution_count": null,
      "outputs": [
        {
          "output_type": "stream",
          "name": "stdout",
          "text": [
            "Hello,World\n"
          ]
        }
      ]
    },
    {
      "cell_type": "markdown",
      "source": [
        "#**Replace String**\n",
        "\n",
        "The replace() method replaces a str with another str"
      ],
      "metadata": {
        "id": "URr4n1O2xLgE"
      }
    },
    {
      "cell_type": "code",
      "source": [
        "a = (\"Hello,World\")\n",
        "print(a.replace(\"World\", \"Abuzar\"))"
      ],
      "metadata": {
        "colab": {
          "base_uri": "https://localhost:8080/"
        },
        "id": "d4J8SbubxhIx",
        "outputId": "1cae1a9d-e589-4392-8a33-3c5b051b859e"
      },
      "execution_count": null,
      "outputs": [
        {
          "output_type": "stream",
          "name": "stdout",
          "text": [
            "Hello,Abuzar\n"
          ]
        }
      ]
    },
    {
      "cell_type": "markdown",
      "source": [
        "#**Split String**\n",
        "\n",
        "The split() methdo returns a list where the text between the specified separator becomes the list items. The split() method split str into substrings if it finds instances of the operators"
      ],
      "metadata": {
        "id": "imFh3LRHytvw"
      }
    },
    {
      "cell_type": "code",
      "source": [
        "a = \"Hello,World\"\n",
        "print(a.split(\",\")) # returns ['Hellow', 'World']"
      ],
      "metadata": {
        "colab": {
          "base_uri": "https://localhost:8080/"
        },
        "id": "jCKYeqRKzk53",
        "outputId": "d2d7dd79-dc02-485e-814f-38ce8f46d598"
      },
      "execution_count": null,
      "outputs": [
        {
          "output_type": "stream",
          "name": "stdout",
          "text": [
            "['Hello', 'World']\n"
          ]
        }
      ]
    },
    {
      "cell_type": "markdown",
      "source": [
        "#**Task#01**\n",
        "\n",
        "Perform the following tasks using the provided built-in function to manipulate the string input_string = \" AI and related technologies have a positive impact on the way the IT sectors works.\"\n",
        "\n",
        "\n",
        "1.   Convert input_string to upper case using the upper() method and store the result in variable called 'Capitalized_text'\n",
        "2.    Convert input_string to lower case using the lower() method and store the result in variable called 'Lowercase_text'\n",
        "3.   Remove the whitespaces from the input_string using the strip() method and store the result in a variable called white_space\n",
        "4.   Split the input_strig into list of words using split() method and store the result in a variable called word_split\n",
        "5.   Replace the word 'positive' with the word 'remarkable' in the input_string using the replace() method and store the result in a variabel called word replace_text\n",
        "\n",
        "\n",
        "\n",
        "\n",
        "\n",
        "\n",
        "\n",
        "\n",
        "\n",
        "\n",
        "\n",
        "\n",
        "\n",
        "\n",
        "\n",
        "\n"
      ],
      "metadata": {
        "id": "L_0VGD5Z02EL"
      }
    },
    {
      "cell_type": "code",
      "source": [
        "# Convert input_string to upper case using the upper() method and store the result in variable called 'Capitalized_text\n",
        "input_string=\"AI and related technologies have a positive impact on the way the IT sectors works.\"\n",
        "Capitalized_text=input_string.upper()\n",
        "print(Capitalized_text)\n"
      ],
      "metadata": {
        "colab": {
          "base_uri": "https://localhost:8080/"
        },
        "id": "ZOhuOWUdS26i",
        "outputId": "dc2e174f-3e27-4eb8-8a12-73483ab76f86"
      },
      "execution_count": null,
      "outputs": [
        {
          "output_type": "stream",
          "name": "stdout",
          "text": [
            "AI AND RELATED TECHNOLOGIES HAVE A POSITIVE IMPACT ON THE WAY THE IT SECTORS WORKS.\n"
          ]
        }
      ]
    },
    {
      "cell_type": "code",
      "source": [
        "#Convert input_string to lower case using the lower() method and store the result in variable called 'Lowercase_text\n",
        "input_string=\"AI and related technologies have a positive impact on the way the IT sectors works.\"\n",
        "Lowercase_text= input_string.lower()\n",
        "print(Lowercase_text)"
      ],
      "metadata": {
        "colab": {
          "base_uri": "https://localhost:8080/"
        },
        "id": "bJ8mL2CoUEqF",
        "outputId": "ff260676-ee99-4a25-809e-28a5614c601b"
      },
      "execution_count": null,
      "outputs": [
        {
          "output_type": "stream",
          "name": "stdout",
          "text": [
            "ai and related technologies have a positive impact on the way the it sectors works.\n"
          ]
        }
      ]
    },
    {
      "cell_type": "code",
      "source": [
        "#Remove the whitespaces from the input_string using the strip() method and store the result in a variable called white_space\n",
        "input_string = \" AI and related technologies have a positive impact on the way the IT sectors works. \"\n",
        "white_space = input_string.strip()\n",
        "print(white_space)"
      ],
      "metadata": {
        "colab": {
          "base_uri": "https://localhost:8080/"
        },
        "id": "022pCKFwUc0j",
        "outputId": "cc8b7356-409c-438c-98a9-a61456bb1015"
      },
      "execution_count": null,
      "outputs": [
        {
          "output_type": "stream",
          "name": "stdout",
          "text": [
            "AI and related technologies have a positive impact on the way the IT sectors works.\n"
          ]
        }
      ]
    },
    {
      "cell_type": "code",
      "source": [
        "#Split the input_strig into list of words using split() method and store the result in a variable called word_split\n",
        "input_string = \" AI and related technologies have a positive impact on the way the IT sectors works. \"\n",
        "word_split=input_string.split()\n",
        "print(word_split)"
      ],
      "metadata": {
        "colab": {
          "base_uri": "https://localhost:8080/"
        },
        "id": "9hTDKlv_U5Ab",
        "outputId": "20f31cea-b9b2-408f-809b-399228562448"
      },
      "execution_count": null,
      "outputs": [
        {
          "output_type": "stream",
          "name": "stdout",
          "text": [
            "['AI', 'and', 'related', 'technologies', 'have', 'a', 'positive', 'impact', 'on', 'the', 'way', 'the', 'IT', 'sectors', 'works.']\n"
          ]
        }
      ]
    },
    {
      "cell_type": "code",
      "source": [
        "#Replace the word 'positive' with the word 'remarkable' in the input_string using the replace() method and store the result in a variabel called word replace_text\n",
        "input_string = \" AI and related technologies have a positive impact on the way the IT sectors works. \"\n",
        "replace_text=input_string.replace(\"positive\",\"remarkable\")\n",
        "print(replace_text)"
      ],
      "metadata": {
        "colab": {
          "base_uri": "https://localhost:8080/"
        },
        "id": "QYfZSaSFVYH8",
        "outputId": "475de84a-8fa8-41d7-9665-ad2fbf8243e7"
      },
      "execution_count": null,
      "outputs": [
        {
          "output_type": "stream",
          "name": "stdout",
          "text": [
            " AI and related technologies have a remarkable impact on the way the IT sectors works. \n"
          ]
        }
      ]
    },
    {
      "cell_type": "markdown",
      "source": [
        "#**List**\n",
        "\n",
        "Lists are created using square brackets."
      ],
      "metadata": {
        "id": "_DwnJU0rBerK"
      }
    },
    {
      "cell_type": "code",
      "source": [
        "thislist=[\"apple\",\"banana\",\"cherry\"]\n",
        "print(thislist)"
      ],
      "metadata": {
        "colab": {
          "base_uri": "https://localhost:8080/"
        },
        "id": "w2-9sy-oWx2M",
        "outputId": "9624b351-348d-4804-d874-60b40be75620"
      },
      "execution_count": null,
      "outputs": [
        {
          "output_type": "stream",
          "name": "stdout",
          "text": [
            "['apple', 'banana', 'cherry']\n"
          ]
        }
      ]
    },
    {
      "cell_type": "markdown",
      "source": [
        "#**List Items**\n",
        "\n",
        "List Items are ordered changeable and allow duplicate values. List items are indexed, the first number has index [0],the second item has [1] etc.Allow duplicate    "
      ],
      "metadata": {
        "id": "EsDdvVgfXAgp"
      }
    },
    {
      "cell_type": "code",
      "source": [
        "thislist=[\"apple\",\"banana\",\"cherry\",\"apple\",\"cherry\"]\n",
        "thislist[0]=\"grapes\"\n",
        "print(thislist)"
      ],
      "metadata": {
        "colab": {
          "base_uri": "https://localhost:8080/"
        },
        "id": "nfrC1lG2XtNQ",
        "outputId": "41463808-b2ef-48cb-d75c-6738087578a5"
      },
      "execution_count": null,
      "outputs": [
        {
          "output_type": "stream",
          "name": "stdout",
          "text": [
            "['grapes', 'banana', 'cherry', 'apple', 'cherry']\n"
          ]
        }
      ]
    },
    {
      "cell_type": "markdown",
      "source": [
        "#**List Length**\n",
        "\n",
        "To determine how many Items a list has,use len() function"
      ],
      "metadata": {
        "id": "fchStgOFYuGS"
      }
    },
    {
      "cell_type": "code",
      "source": [
        "\n",
        "print(len(thislist))"
      ],
      "metadata": {
        "colab": {
          "base_uri": "https://localhost:8080/"
        },
        "id": "XgHFCEL7ZCs3",
        "outputId": "60ed6370-2676-4abd-f480-3b2a1780c05b"
      },
      "execution_count": null,
      "outputs": [
        {
          "output_type": "stream",
          "name": "stdout",
          "text": [
            "5\n"
          ]
        }
      ]
    },
    {
      "cell_type": "markdown",
      "source": [
        "#**List Items-Data types**\n",
        "List Items can be of any data type"
      ],
      "metadata": {
        "id": "e21CvESLZRM5"
      }
    },
    {
      "cell_type": "code",
      "source": [
        "# str,int and bool data types:\n",
        "list1=[\"apple\",\"banana\",\"cheery\"]\n",
        "list2=[1,5,7,9,]\n",
        "list3=[True,False,]\n"
      ],
      "metadata": {
        "id": "vcRps8ivZia5"
      },
      "execution_count": null,
      "outputs": []
    },
    {
      "cell_type": "code",
      "source": [
        "# A list with str,int and boolen value:\n",
        "list1=[\"apple\",14,True,60,\"male\"]\n",
        "print(list1)\n",
        "\n"
      ],
      "metadata": {
        "colab": {
          "base_uri": "https://localhost:8080/"
        },
        "id": "6Ei-IXw-a5L9",
        "outputId": "010d981d-034e-45e8-e974-cd16f29ea64e"
      },
      "execution_count": null,
      "outputs": [
        {
          "output_type": "stream",
          "name": "stdout",
          "text": [
            "['apple', 14, True, 60, 'male']\n"
          ]
        }
      ]
    },
    {
      "cell_type": "markdown",
      "source": [
        "#**The list() Constructor**\n",
        "\n",
        "It is also possible to use the list() constructor when creating a new list."
      ],
      "metadata": {
        "id": "9EzPES-voLwF"
      }
    },
    {
      "cell_type": "code",
      "source": [
        " # note the double round-brackets\n",
        "thislist = list((\"apple\", \"banana\", \"cherry\"))\n",
        "print(thislist)"
      ],
      "metadata": {
        "id": "NlpG7I0soNb4",
        "outputId": "239c563c-f493-45af-bb2f-2288d6aa0934",
        "colab": {
          "base_uri": "https://localhost:8080/"
        }
      },
      "execution_count": null,
      "outputs": [
        {
          "output_type": "stream",
          "name": "stdout",
          "text": [
            "['apple', 'banana', 'cherry']\n"
          ]
        }
      ]
    },
    {
      "cell_type": "markdown",
      "source": [
        "#**Access List Items**\n",
        "\n",
        "ist items are indexed and you can access them by referring to the index number:\n",
        "\n"
      ],
      "metadata": {
        "id": "BH0JTb_-AFFa"
      }
    },
    {
      "cell_type": "code",
      "source": [
        "#Print the second item of the list\n",
        "thislist = [\"apple\", \"banana\", \"cherry\"]\n",
        "print(thislist[1])\n",
        "\n",
        "#Print the 3rd item of the list with index\n",
        "thislist = [\"apple\", \"banana\", \"cherry\"]\n",
        "print(thislist[-1])\n",
        "\n",
        "#Return the third, fourth, and fifth item:\n",
        "thislist = [\"apple\", \"banana\", \"cherry\", \"orange\", \"kiwi\", \"melon\", \"mango\"]\n",
        "print(thislist[2:5])\n"
      ],
      "metadata": {
        "id": "0IdrDow3AM3h",
        "outputId": "90d2ac81-092e-494f-ad6b-87d45cce0a4f",
        "colab": {
          "base_uri": "https://localhost:8080/"
        }
      },
      "execution_count": null,
      "outputs": [
        {
          "output_type": "stream",
          "name": "stdout",
          "text": [
            "banana\n",
            "cherry\n",
            "['cherry', 'orange', 'kiwi']\n"
          ]
        }
      ]
    },
    {
      "cell_type": "code",
      "source": [
        "#This example returns the items from the beginning to, but NOT including, \"kiwi\":\n",
        "\n",
        "thislist = [\"apple\", \"banana\", \"cherry\", \"orange\", \"kiwi\", \"melon\", \"mango\"]\n",
        "print(thislist[:4])\n",
        "\n",
        "#This example returns the items from \"cherry\" to the end:\n",
        "\n",
        "thislist = [\"apple\", \"banana\", \"cherry\", \"orange\", \"kiwi\", \"melon\", \"mango\"]\n",
        "print(thislist[2:])"
      ],
      "metadata": {
        "id": "uKbAavE1EpOk",
        "outputId": "2733dd1c-482e-4a91-8d9e-a7fd27fcf9b8",
        "colab": {
          "base_uri": "https://localhost:8080/"
        }
      },
      "execution_count": null,
      "outputs": [
        {
          "output_type": "stream",
          "name": "stdout",
          "text": [
            "['apple', 'banana', 'cherry', 'orange']\n",
            "['cherry', 'orange', 'kiwi', 'melon', 'mango']\n"
          ]
        }
      ]
    },
    {
      "cell_type": "code",
      "source": [
        "#Range of Negative Indexes\n",
        "#Specify negative indexes if you want to start the search from the end of the list\n",
        "\n",
        "#This example returns the items from \"orange\" (-4) to, but NOT including \"mango\" (-1):\n",
        "\n",
        "thislist = [\"apple\", \"banana\", \"cherry\", \"orange\", \"kiwi\", \"melon\", \"mango\"]\n",
        "print(thislist[-4:-1])"
      ],
      "metadata": {
        "id": "RAxhSXH7E88y",
        "outputId": "148d9994-dded-4039-879e-ef826950586a",
        "colab": {
          "base_uri": "https://localhost:8080/"
        }
      },
      "execution_count": null,
      "outputs": [
        {
          "output_type": "stream",
          "name": "stdout",
          "text": [
            "['orange', 'kiwi', 'melon']\n"
          ]
        }
      ]
    },
    {
      "cell_type": "markdown",
      "source": [
        "#**Check if Item Exists**\n",
        "To determine if a specified item is present in a list use the in keyword:"
      ],
      "metadata": {
        "id": "GoPtwkfGFnHo"
      }
    },
    {
      "cell_type": "code",
      "source": [
        "#Check if \"apple\" is present in the list:\n",
        "\n",
        "thislist = [\"apple\", \"banana\", \"cherry\"]\n",
        "if \"apple\" in thislist:\n",
        "  print(\"Yes, 'apple' is in the fruits list\")"
      ],
      "metadata": {
        "id": "g8fsvuA1Fr8W",
        "outputId": "460871f3-dd26-4dd2-9449-121fc2144833",
        "colab": {
          "base_uri": "https://localhost:8080/"
        }
      },
      "execution_count": null,
      "outputs": [
        {
          "output_type": "stream",
          "name": "stdout",
          "text": [
            "Yes, 'apple' is in the fruits list\n"
          ]
        }
      ]
    },
    {
      "cell_type": "markdown",
      "source": [
        "#**Change Item Value**\n",
        "To change the value of a specific item, refer to the index number"
      ],
      "metadata": {
        "id": "WiGYaYDwF6ms"
      }
    },
    {
      "cell_type": "code",
      "source": [
        "#Change the second item:\n",
        "\n",
        "thislist = [\"apple\", \"banana\", \"cherry\"]\n",
        "thislist[1] = \"blackcurrant\"\n",
        "print(thislist)"
      ],
      "metadata": {
        "id": "wmMAfN-QF8xt",
        "outputId": "af9e8269-9f81-4d81-c0d4-afa5d0018603",
        "colab": {
          "base_uri": "https://localhost:8080/"
        }
      },
      "execution_count": null,
      "outputs": [
        {
          "output_type": "stream",
          "name": "stdout",
          "text": [
            "['apple', 'blackcurrant', 'cherry']\n"
          ]
        }
      ]
    },
    {
      "cell_type": "code",
      "source": [
        "#Change a Range of Item Values\n",
        "#Change the values \"banana\" and \"cherry\" with the values \"blackcurrant\" and \"watermelon\":\n",
        "\n",
        "thislist = [\"apple\", \"banana\", \"cherry\", \"orange\", \"kiwi\", \"mango\"]\n",
        "thislist[1:3] = [\"blackcurrant\", \"watermelon\"]\n",
        "print(thislist)"
      ],
      "metadata": {
        "id": "mfFfd-JqGIGa",
        "outputId": "0b51553b-0685-4505-e5ad-038931b87a6c",
        "colab": {
          "base_uri": "https://localhost:8080/"
        }
      },
      "execution_count": null,
      "outputs": [
        {
          "output_type": "stream",
          "name": "stdout",
          "text": [
            "['apple', 'blackcurrant', 'watermelon', 'orange', 'kiwi', 'mango']\n"
          ]
        }
      ]
    },
    {
      "cell_type": "markdown",
      "source": [
        "#**Insert Items**\n",
        "To insert a new list item, without replacing any of the existing values, we can use the insert() method.\n",
        "\n",
        "The insert() method inserts an item at the specified index:"
      ],
      "metadata": {
        "id": "Y50rpOInGd2R"
      }
    },
    {
      "cell_type": "code",
      "source": [
        "#Insert \"watermelon\" as the third item:\n",
        "\n",
        "thislist = [\"apple\", \"banana\", \"cherry\"]\n",
        "thislist.insert(2, \"watermelon\")\n",
        "print(thislist)"
      ],
      "metadata": {
        "id": "haYRHZDAGgvP",
        "outputId": "b12c4641-bba2-491c-a077-acf0d9070df4",
        "colab": {
          "base_uri": "https://localhost:8080/"
        }
      },
      "execution_count": null,
      "outputs": [
        {
          "output_type": "stream",
          "name": "stdout",
          "text": [
            "['apple', 'banana', 'watermelon', 'cherry']\n"
          ]
        }
      ]
    },
    {
      "cell_type": "markdown",
      "source": [
        "#**Tuple**\n",
        "\n",
        "Tuple are used to store multiple items in a single variabel.A tuple is collection which is ordered and unchangeable.\n",
        "Tuples are written with Rounde bracket"
      ],
      "metadata": {
        "id": "PndqLbOVbTAF"
      }
    },
    {
      "cell_type": "code",
      "source": [
        "#This example returns the items from the beginning to, but NOT including, \"kiwi\":\n",
        "\n",
        "thislist = [\"apple\", \"banana\", \"cherry\", \"orange\", \"kiwi\", \"melon\", \"mango\"]\n",
        "print(thislist[:4])\n",
        "\n",
        "#This example returns the items from \"cherry\" to the end:\n",
        "\n",
        "thislist = [\"apple\", \"banana\", \"cherry\", \"orange\", \"kiwi\", \"melon\", \"mango\"]\n",
        "print(thislist[2:])"
      ],
      "metadata": {
        "id": "NpmJJ-w0BiqR",
        "outputId": "28644e5e-c91f-41a2-b9a2-7f205d1cf6c8",
        "colab": {
          "base_uri": "https://localhost:8080/"
        }
      },
      "execution_count": null,
      "outputs": [
        {
          "output_type": "stream",
          "name": "stdout",
          "text": [
            "['apple', 'banana', 'cherry', 'orange']\n",
            "['cherry', 'orange', 'kiwi', 'melon', 'mango']\n"
          ]
        }
      ]
    },
    {
      "cell_type": "code",
      "source": [
        "#This example returns the items from \"orange\" (-4) to, but NOT including \"mango\" (-1):\n",
        "\n",
        "thislist = [\"apple\", \"banana\", \"cherry\", \"orange\", \"kiwi\", \"melon\", \"mango\"]\n",
        "print(thislist[-4:-1])"
      ],
      "metadata": {
        "id": "qBHq2zOYByhf",
        "outputId": "bade4040-2344-4206-c231-cbf8804dc581",
        "colab": {
          "base_uri": "https://localhost:8080/"
        }
      },
      "execution_count": null,
      "outputs": [
        {
          "output_type": "stream",
          "name": "stdout",
          "text": [
            "['orange', 'kiwi', 'melon']\n"
          ]
        }
      ]
    },
    {
      "cell_type": "markdown",
      "source": [
        "#**Check if Item Exists**\n",
        "\n",
        "To determine if a specified item is present in a list use the in keyword:\n"
      ],
      "metadata": {
        "id": "2Ejussk-CAO1"
      }
    },
    {
      "cell_type": "code",
      "source": [
        "#Check if \"apple\" is present in the list:\n",
        "\n",
        "thislist = [\"apple\", \"banana\", \"cherry\"]\n",
        "if \"apple\" in thislist:\n",
        "  print(\"Yes, 'apple' is in the fruits list\")"
      ],
      "metadata": {
        "id": "zSYKQBDwCNsT",
        "outputId": "0eb5b702-fbcd-4b21-f55b-bd4fa046c84f",
        "colab": {
          "base_uri": "https://localhost:8080/"
        }
      },
      "execution_count": null,
      "outputs": [
        {
          "output_type": "stream",
          "name": "stdout",
          "text": [
            "Yes, 'apple' is in the fruits list\n"
          ]
        }
      ]
    },
    {
      "cell_type": "markdown",
      "source": [
        "#**Change Item Value**\n",
        "\n",
        "To change the value of a specific item, refer to the index number:"
      ],
      "metadata": {
        "id": "lCnTAiXaCl3c"
      }
    },
    {
      "cell_type": "code",
      "source": [
        "#Change the second item:\n",
        "\n",
        "thislist = [\"apple\", \"banana\", \"cherry\"]\n",
        "thislist[1] = \"blackcurrant\"\n",
        "print(thislist)"
      ],
      "metadata": {
        "id": "n0jyMhEBCt36",
        "outputId": "27c4205c-3171-4272-8614-5a3c3f6fa14d",
        "colab": {
          "base_uri": "https://localhost:8080/"
        }
      },
      "execution_count": null,
      "outputs": [
        {
          "output_type": "stream",
          "name": "stdout",
          "text": [
            "['apple', 'blackcurrant', 'cherry']\n"
          ]
        }
      ]
    },
    {
      "cell_type": "code",
      "source": [
        "#Change a Range of Item Values\n",
        "#Change the values \"banana\" and \"cherry\" with the values \"blackcurrant\" and \"watermelon\":\n",
        "\n",
        "thislist = [\"apple\", \"banana\", \"cherry\", \"orange\", \"kiwi\", \"mango\"]\n",
        "thislist[1:3] = [\"blackcurrant\", \"watermelon\"]\n",
        "print(thislist)"
      ],
      "metadata": {
        "id": "VnZYVUlzC-uh",
        "outputId": "29ca4f53-bf0f-4d4c-9416-f7afbf628e15",
        "colab": {
          "base_uri": "https://localhost:8080/"
        }
      },
      "execution_count": null,
      "outputs": [
        {
          "output_type": "stream",
          "name": "stdout",
          "text": [
            "['apple', 'blackcurrant', 'watermelon', 'orange', 'kiwi', 'mango']\n"
          ]
        }
      ]
    },
    {
      "cell_type": "markdown",
      "source": [
        "#**Insert Items**\n",
        "To insert a new list item, without replacing any of the existing values, we can use the insert() method.\n",
        "\n",
        "The insert() method inserts an item at the specified index:"
      ],
      "metadata": {
        "id": "15dAcfqdDX32"
      }
    },
    {
      "cell_type": "code",
      "source": [
        "#Insert \"watermelon\" as the third item:\n",
        "\n",
        "thislist = [\"apple\", \"banana\", \"cherry\"]\n",
        "thislist.insert(2, \"watermelon\")\n",
        "print(thislist)"
      ],
      "metadata": {
        "id": "SJ6S_yfvDb6T",
        "outputId": "2dd25c15-417b-4455-f1ac-fa04b66416e1",
        "colab": {
          "base_uri": "https://localhost:8080/"
        }
      },
      "execution_count": null,
      "outputs": [
        {
          "output_type": "stream",
          "name": "stdout",
          "text": [
            "['apple', 'banana', 'watermelon', 'cherry']\n"
          ]
        }
      ]
    },
    {
      "cell_type": "markdown",
      "source": [
        "#**Loop Through a List**\n",
        "You can loop through the list items by using a for loop:"
      ],
      "metadata": {
        "id": "FNR7wPLwIbIT"
      }
    },
    {
      "cell_type": "code",
      "source": [
        "#Print all items in the list, one by one:\n",
        "\n",
        "thislist = [\"apple\", \"banana\", \"cherry\"]\n",
        "for x in thislist:\n",
        "  print(x)"
      ],
      "metadata": {
        "id": "Yqkwe1LPIg35",
        "outputId": "71a15dfe-7697-4d6f-e2af-206232dfbc30",
        "colab": {
          "base_uri": "https://localhost:8080/"
        }
      },
      "execution_count": 24,
      "outputs": [
        {
          "output_type": "stream",
          "name": "stdout",
          "text": [
            "apple\n",
            "banana\n",
            "cherry\n"
          ]
        }
      ]
    },
    {
      "cell_type": "markdown",
      "source": [
        "#**Create a tuple**"
      ],
      "metadata": {
        "id": "bRidlwWWdeld"
      }
    },
    {
      "cell_type": "code",
      "source": [
        "thistuple=(\"apple\",\"banana\",\"cheery\")\n",
        "print(thistuple)\n"
      ],
      "metadata": {
        "colab": {
          "base_uri": "https://localhost:8080/"
        },
        "id": "P5C47O0ydn_k",
        "outputId": "142607f9-1ea8-4619-e24c-7421bb29b1dd"
      },
      "execution_count": null,
      "outputs": [
        {
          "output_type": "stream",
          "name": "stdout",
          "text": [
            "('apple', 'banana', 'cheery')\n"
          ]
        }
      ]
    },
    {
      "cell_type": "markdown",
      "source": [
        "#**Tuple Items**\n",
        "\n",
        "Tuples Items are ordered unchangeable, and allow duplicate values.\n",
        "\n",
        "Tuples items are indexed,the first item has index[0] the 2nd item has index[1] etc.\n",
        "\n",
        "**Allow Duplicate** since tuples are indexed, they have items with same value."
      ],
      "metadata": {
        "id": "xR_IGha4dx99"
      }
    },
    {
      "cell_type": "code",
      "source": [
        "#Tuples allow duplicate values\n",
        "thistuple=(\"apple\",\"banana\",\"cheery\",\"apple\",\"cheery\")\n",
        "print(thistuple)"
      ],
      "metadata": {
        "colab": {
          "base_uri": "https://localhost:8080/"
        },
        "id": "JoqQjXtkDC3j",
        "outputId": "8931105f-b0cc-4bb8-c8d9-11803338fdfd"
      },
      "execution_count": null,
      "outputs": [
        {
          "output_type": "stream",
          "name": "stdout",
          "text": [
            "('apple', 'banana', 'cheery', 'apple', 'cheery')\n"
          ]
        }
      ]
    },
    {
      "cell_type": "markdown",
      "source": [
        "#**Create Tuple with one item**\n",
        "to create tuple with only one item you have to add a comma after the item. otherwise python will not recognize it as a tuple"
      ],
      "metadata": {
        "id": "sA92xVJ7Dav0"
      }
    },
    {
      "cell_type": "code",
      "source": [
        "# one item tuple\n",
        "thistuple=(\"apple\",)\n",
        "print(type(thistuple))\n",
        "\n",
        "#not tuple\n",
        "thistuple=(\"apple\")\n",
        "print(type(thistuple))"
      ],
      "metadata": {
        "colab": {
          "base_uri": "https://localhost:8080/"
        },
        "id": "WKAGbf4dD_Ti",
        "outputId": "f969cd13-8fda-4dd8-df74-c254e90663c2"
      },
      "execution_count": null,
      "outputs": [
        {
          "output_type": "stream",
          "name": "stdout",
          "text": [
            "<class 'tuple'>\n",
            "<class 'str'>\n"
          ]
        }
      ]
    },
    {
      "cell_type": "markdown",
      "source": [
        "#**Tuple Items-Data Types**\n",
        "\n",
        "Tuple items can be of any data type"
      ],
      "metadata": {
        "id": "IifH1gsf4xTJ"
      }
    },
    {
      "cell_type": "code",
      "source": [
        "# str,int,and bool data types:\n",
        "tuple1=(\"apple\",\"banana\",\"cherry\")\n",
        "tuple2=(1,2,3,4,5,6)\n",
        "tuple3=(True,False,False)\n"
      ],
      "metadata": {
        "id": "z-ze1mP-5Jkp"
      },
      "execution_count": null,
      "outputs": []
    },
    {
      "cell_type": "code",
      "source": [
        "# Tuple can be contain different data types:\n",
        "# Tuple with str, int and boolen values\n",
        "Tuple1=(\"abc\",14,True,18,\"male\")"
      ],
      "metadata": {
        "id": "wRysAw855wkZ"
      },
      "execution_count": null,
      "outputs": []
    },
    {
      "cell_type": "markdown",
      "source": [
        "#**Python Sets**\n",
        "\n",
        "sets are used to store multiple items in single variabel. A set is a collection which is unordered, unchangeable and unindexed. Note**Set. Items are unchangeable, but you can remove items and add new items."
      ],
      "metadata": {
        "id": "yLss0CtM6oD5"
      }
    },
    {
      "cell_type": "markdown",
      "source": [
        "### **Unordered**\n",
        "\n",
        "unordered means that the items in a set don't have define order\n",
        "\n",
        "set items can appear in a different order everytime you use them, and can't be reffered to by index or key\n"
      ],
      "metadata": {
        "id": "6h4xca857y8O"
      }
    },
    {
      "cell_type": "markdown",
      "source": [
        "### **Creat a set**\n",
        "\n",
        "set are written with curly bracket"
      ],
      "metadata": {
        "id": "BzUzjm7m-yNo"
      }
    },
    {
      "cell_type": "code",
      "source": [
        "thisset={\"apple\", \"banana\", \"cherry\"}\n",
        "print(thisset)"
      ],
      "metadata": {
        "colab": {
          "base_uri": "https://localhost:8080/"
        },
        "id": "mOxuftcl_GMC",
        "outputId": "39ec5221-988a-4833-8014-5b528fa95522"
      },
      "execution_count": null,
      "outputs": [
        {
          "output_type": "stream",
          "name": "stdout",
          "text": [
            "{'banana', 'cherry', 'apple'}\n"
          ]
        }
      ]
    },
    {
      "cell_type": "markdown",
      "source": [
        "# **Duplicate not allowed**\n",
        "\n",
        "set can't have two items with same value."
      ],
      "metadata": {
        "id": "f-3eoNsU_VFt"
      }
    },
    {
      "cell_type": "code",
      "source": [
        "# Duplicate value will be ingnored\n",
        "thisset={\"apple\", \"banana\", \"cherry\", \"apple\"}\n",
        "print(thisset)"
      ],
      "metadata": {
        "colab": {
          "base_uri": "https://localhost:8080/"
        },
        "id": "p6bv1r5g_ob3",
        "outputId": "cdcf98cb-b358-44de-a6f9-13018bc1aa40"
      },
      "execution_count": null,
      "outputs": [
        {
          "output_type": "stream",
          "name": "stdout",
          "text": [
            "{'banana', 'cherry', 'apple'}\n"
          ]
        }
      ]
    },
    {
      "cell_type": "markdown",
      "source": [
        "#**Get length of a set**\n",
        "\n",
        "To determine how many times a set has,use the len() function"
      ],
      "metadata": {
        "id": "8qj3nxukAWVZ"
      }
    },
    {
      "cell_type": "code",
      "source": [
        "# Get number of items in a set:\n",
        "thisset={\"apple\", \"banana\", \"cherry\",}\n",
        "print(len(thisset))"
      ],
      "metadata": {
        "colab": {
          "base_uri": "https://localhost:8080/"
        },
        "id": "BWmG9S1jAsPO",
        "outputId": "4be20d66-9b81-4b40-ceab-02e13de8e756"
      },
      "execution_count": null,
      "outputs": [
        {
          "output_type": "stream",
          "name": "stdout",
          "text": [
            "3\n"
          ]
        }
      ]
    },
    {
      "cell_type": "markdown",
      "source": [
        "# **Set Items-Data types**\n",
        "\n",
        "Set items can be of any data types:"
      ],
      "metadata": {
        "id": "RX_TZQAnBJf1"
      }
    },
    {
      "cell_type": "code",
      "source": [
        "# str, int and boolen data types:\n",
        "set1={\"apple\", \"banana\", \"cherry\"}\n",
        "set2={1,2,3,4,5,6}\n",
        "set3={True, False, False}\n"
      ],
      "metadata": {
        "id": "zc47w7O7Bb8y"
      },
      "execution_count": null,
      "outputs": []
    },
    {
      "cell_type": "code",
      "source": [
        "# A set contain different data types:\n",
        "# A set with str, int, and bool values\n",
        "set = {\"abc\", 14, True, \"male\"}"
      ],
      "metadata": {
        "id": "iO9xjrOJHjI5"
      },
      "execution_count": null,
      "outputs": []
    },
    {
      "cell_type": "markdown",
      "source": [
        "# **Type()**\n",
        "\n",
        "From python perspective, sets are defined as object with the data type 'set'."
      ],
      "metadata": {
        "id": "pMgam1FmH-uX"
      }
    },
    {
      "cell_type": "code",
      "source": [
        "# what is data type of a set?\n",
        "myset={\"apple\", \"banana\", \"cherry\"}\n",
        "print(type(myset))"
      ],
      "metadata": {
        "colab": {
          "base_uri": "https://localhost:8080/"
        },
        "id": "KSNaDIZ_IU1L",
        "outputId": "0c0c6ab2-4b66-4af5-b8ba-a24e22391295"
      },
      "execution_count": null,
      "outputs": [
        {
          "output_type": "stream",
          "name": "stdout",
          "text": [
            "<class 'set'>\n"
          ]
        }
      ]
    },
    {
      "cell_type": "markdown",
      "source": [
        "# **Python Dictionries**\n",
        "\n",
        "Dictionaries are used to store data values in key:value pairs.\n",
        "\n",
        "A dictionary is a collection which is ordered , changeable and don't allow duplicate."
      ],
      "metadata": {
        "id": "g3BJKkg8JkAM"
      }
    },
    {
      "cell_type": "code",
      "source": [
        "# Dictionaries are written with curly bracket, and have key and values:\n",
        "# creat and print dictionary\n",
        "thisdict = {\n",
        "    \"brand\":\"ford\",\n",
        "    \"model\":\"mustang\",\n",
        "    \"year\" : 1964\n",
        "}\n",
        "print(thisdict)"
      ],
      "metadata": {
        "colab": {
          "base_uri": "https://localhost:8080/"
        },
        "id": "8k07Sl6-KHOx",
        "outputId": "85ca702f-5fe5-4258-92e9-7d9f5fb9c8c7"
      },
      "execution_count": null,
      "outputs": [
        {
          "output_type": "stream",
          "name": "stdout",
          "text": [
            "{'brand': 'ford', 'model': 'mustang', 'year': 1964}\n"
          ]
        }
      ]
    },
    {
      "cell_type": "markdown",
      "source": [
        "#**Dictionary Items**\n",
        "\n",
        "Dictionay items are ordered, changeable and doesn't allow duplicate\n",
        "\n",
        "Dictionay Items are presented in key:value pairs and can be reffered to by using key name.\n"
      ],
      "metadata": {
        "id": "Ds_5MbuBMTIa"
      }
    },
    {
      "cell_type": "code",
      "source": [
        "# print \"brand\" value of dictionary\n",
        "thisdict = {\n",
        "    \"brand\":\"ford\",\n",
        "    \"model\":\"mustang\",\n",
        "    \"year\" : 1964\n",
        "}\n",
        "print(thisdict[\"brand\"])"
      ],
      "metadata": {
        "colab": {
          "base_uri": "https://localhost:8080/"
        },
        "id": "gDr05jTsM4tL",
        "outputId": "bfa245f0-bae4-41ec-ef07-71bc506c7d1d"
      },
      "execution_count": null,
      "outputs": [
        {
          "output_type": "stream",
          "name": "stdout",
          "text": [
            "ford\n"
          ]
        }
      ]
    },
    {
      "cell_type": "markdown",
      "source": [
        "#**Ordered or Unordered**\n",
        "\n",
        "when we say that dictionaries are ordered. It means that the items have defined order, and that order will not change.\n",
        "\n",
        "Unordered means that the items doesn't have define order, you can't refer to an item by using an index"
      ],
      "metadata": {
        "id": "9BntggbENRXf"
      }
    },
    {
      "cell_type": "markdown",
      "source": [
        "###**Changeable**\n",
        "\n",
        "Dictionaries are changeable, meaning that we can change, add or remove items after the dictionary has been created  "
      ],
      "metadata": {
        "id": "r8uOkthFOD8R"
      }
    },
    {
      "cell_type": "markdown",
      "source": [
        "# **Duplicate not allowed**\n",
        "\n",
        "Dictionary can't have two items with same key"
      ],
      "metadata": {
        "id": "sJhgfBl8Of2Z"
      }
    },
    {
      "cell_type": "code",
      "source": [
        "# Duplicate value will overwrite existing value:\n",
        "thisdict = {\n",
        "    \"brand\":\"ford\",\n",
        "    \"model\":\"mustang\",\n",
        "    \"year\" : 1964,\n",
        "    \"year\": 2020\n",
        "}\n",
        "print(thisdict)"
      ],
      "metadata": {
        "colab": {
          "base_uri": "https://localhost:8080/"
        },
        "id": "9aG4ZETeO4qD",
        "outputId": "29ffbc58-e148-4835-d718-3edebd4c2fb9"
      },
      "execution_count": null,
      "outputs": [
        {
          "output_type": "stream",
          "name": "stdout",
          "text": [
            "{'brand': 'ford', 'model': 'mustang', 'year': 2020}\n"
          ]
        }
      ]
    },
    {
      "cell_type": "markdown",
      "source": [
        "#**Python if...else**\n",
        "\n",
        "Python support the usual logical conditions from mathematics:\n",
        "\n",
        "python relational operators\n",
        "\n",
        "Equal: a==b\n",
        "\n",
        "Not equal: a!=b\n",
        "\n",
        "Less than: a < b\n",
        "\n",
        "Greater than: a > b\n",
        "\n",
        "Less than equal to: a <= b\n",
        "\n",
        "Greater than equal to: a >= b\n",
        "\n",
        "These conditions can be used in several ways, most commonly in 'if statement' and loops\n",
        "\n",
        "An 'if statement' is written by using the if key\n",
        "\n"
      ],
      "metadata": {
        "id": "fP9LBL1q4hVB"
      }
    },
    {
      "cell_type": "code",
      "source": [
        "# if statement:\n",
        "a = 33\n",
        "b= 200\n",
        "if b > a:\n",
        "  print(\"b is greater than a\")"
      ],
      "metadata": {
        "id": "oS_QUOkR6A9n",
        "outputId": "a43b64db-cfba-42f1-a888-c84fe4e19d8c",
        "colab": {
          "base_uri": "https://localhost:8080/"
        }
      },
      "execution_count": null,
      "outputs": [
        {
          "output_type": "stream",
          "name": "stdout",
          "text": [
            "b is greater than a\n"
          ]
        }
      ]
    },
    {
      "cell_type": "markdown",
      "source": [
        "# **Indentation**\n",
        "\n",
        "python relies on indentation (whitespace at the beginnig of line) to define scope in a the code. Other programming language often use curly-bracket for this purpose"
      ],
      "metadata": {
        "id": "96BUN82261YP"
      }
    },
    {
      "cell_type": "code",
      "source": [
        "a = 33\n",
        "b= 200\n",
        "if b > a:\n",
        "print(\"b is greater than a\")"
      ],
      "metadata": {
        "id": "vw7FpdtF7d-N",
        "outputId": "43542985-5234-40a6-f7c9-4e25046e6d8f",
        "colab": {
          "base_uri": "https://localhost:8080/",
          "height": 106
        }
      },
      "execution_count": null,
      "outputs": [
        {
          "output_type": "error",
          "ename": "IndentationError",
          "evalue": "expected an indented block after 'if' statement on line 3 (<ipython-input-3-e5ed151fbdeb>, line 4)",
          "traceback": [
            "\u001b[0;36m  File \u001b[0;32m\"<ipython-input-3-e5ed151fbdeb>\"\u001b[0;36m, line \u001b[0;32m4\u001b[0m\n\u001b[0;31m    print(\"b is greater than a\")\u001b[0m\n\u001b[0m    ^\u001b[0m\n\u001b[0;31mIndentationError\u001b[0m\u001b[0;31m:\u001b[0m expected an indented block after 'if' statement on line 3\n"
          ]
        }
      ]
    },
    {
      "cell_type": "markdown",
      "source": [
        "#**elif**\n",
        "\n",
        "The else keyword catches anything which isn't caught by the preceding conditions."
      ],
      "metadata": {
        "id": "LKUxFYBp8-Tu"
      }
    },
    {
      "cell_type": "code",
      "source": [
        "a = 333\n",
        "b = 333\n",
        "if b > a:\n",
        "  print(\"b is greater than a\")\n",
        "elif b == a:\n",
        "  print(\"b and a are equle\")"
      ],
      "metadata": {
        "id": "0sxRIwif9W47",
        "outputId": "e2bb816f-90f2-4cea-b3b2-512eb8408aa5",
        "colab": {
          "base_uri": "https://localhost:8080/"
        }
      },
      "execution_count": null,
      "outputs": [
        {
          "output_type": "stream",
          "name": "stdout",
          "text": [
            "b and a are equle\n"
          ]
        }
      ]
    },
    {
      "cell_type": "markdown",
      "source": [
        "#**else**\n",
        "\n",
        "The else keyword catches anything which isn't caught by the preceding conditions."
      ],
      "metadata": {
        "id": "k4qDfkAW_icu"
      }
    },
    {
      "cell_type": "code",
      "source": [
        "a = 200\n",
        "b = 33\n",
        "if b > a:\n",
        "  print(\"b is greater than a\")\n",
        "elif a == b:\n",
        "  print(\"a and b are equal\")\n",
        "else:\n",
        "  print(\"a is greater than b\")"
      ],
      "metadata": {
        "id": "8Wwbi6F6_0Q9",
        "outputId": "d1bcbc13-52bd-4b56-f043-f43a4c736130",
        "colab": {
          "base_uri": "https://localhost:8080/"
        }
      },
      "execution_count": null,
      "outputs": [
        {
          "output_type": "stream",
          "name": "stdout",
          "text": [
            "a is greater than b\n"
          ]
        }
      ]
    },
    {
      "cell_type": "markdown",
      "source": [
        "#**And**\n",
        "\n",
        "The and keyword is a logical operator and is used to combine conditional statement:\n",
        "\n",
        "\n",
        "Test  if a is greater thant b and if c is greater than a:"
      ],
      "metadata": {
        "id": "ezEkARXLBQGj"
      }
    },
    {
      "cell_type": "code",
      "source": [
        "a = 200\n",
        "b = 33\n",
        "c = 500\n",
        "if a > b and c > a:\n",
        "  print(\"both conditions are true\")"
      ],
      "metadata": {
        "id": "DqTm64WzB1Cc",
        "outputId": "f61bb1f3-0a61-475e-f9a2-baacc25fc96c",
        "colab": {
          "base_uri": "https://localhost:8080/"
        }
      },
      "execution_count": null,
      "outputs": [
        {
          "output_type": "stream",
          "name": "stdout",
          "text": [
            "both conditions are true\n"
          ]
        }
      ]
    },
    {
      "cell_type": "markdown",
      "source": [
        "#**or**\n",
        "\n",
        "the or keyword is logical operator,and is used to combine conditional statement."
      ],
      "metadata": {
        "id": "UCdnb6z6EB1U"
      }
    },
    {
      "cell_type": "code",
      "source": [
        "a = 200\n",
        "b = 33\n",
        "c = 500\n",
        "if a > b and c > a:\n",
        "  print(\"At least one of the condition is true\")"
      ],
      "metadata": {
        "id": "dD0brE87EWzM",
        "outputId": "dd6a350c-9d13-42ab-b1ca-90ebf2d205b3",
        "colab": {
          "base_uri": "https://localhost:8080/"
        }
      },
      "execution_count": null,
      "outputs": [
        {
          "output_type": "stream",
          "name": "stdout",
          "text": [
            "At least one of the condition is true\n"
          ]
        }
      ]
    },
    {
      "cell_type": "markdown",
      "source": [
        "#**Not**\n",
        "\n",
        "The not keyword is a logical operator, and used to reverse the result of condition statement."
      ],
      "metadata": {
        "id": "BxgUEiC4En9X"
      }
    },
    {
      "cell_type": "code",
      "source": [
        "# Test if a is Not greater than b\n",
        "a = 33\n",
        "b = 200\n",
        "if not a > b:\n",
        "  print(\"a is not greater than b\")"
      ],
      "metadata": {
        "id": "IKJhevRPE6aL",
        "outputId": "8a04b317-b03f-4406-ffff-dbd879ccbcf5",
        "colab": {
          "base_uri": "https://localhost:8080/"
        }
      },
      "execution_count": null,
      "outputs": [
        {
          "output_type": "stream",
          "name": "stdout",
          "text": [
            "a is not greater than b\n"
          ]
        }
      ]
    }
  ]
}