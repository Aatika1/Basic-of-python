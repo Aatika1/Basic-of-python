{
  "nbformat": 4,
  "nbformat_minor": 0,
  "metadata": {
    "colab": {
      "provenance": [],
      "authorship_tag": "ABX9TyOTIzva0LWpUtGyxea5yP+N",
      "include_colab_link": true
    },
    "kernelspec": {
      "name": "python3",
      "display_name": "Python 3"
    },
    "language_info": {
      "name": "python"
    }
  },
  "cells": [
    {
      "cell_type": "markdown",
      "metadata": {
        "id": "view-in-github",
        "colab_type": "text"
      },
      "source": [
        "<a href=\"https://colab.research.google.com/github/Aatika1/Basic-of-python/blob/main/Lecture_7_stage3_basics_of_python.ipynb\" target=\"_parent\"><img src=\"https://colab.research.google.com/assets/colab-badge.svg\" alt=\"Open In Colab\"/></a>"
      ]
    },
    {
      "cell_type": "markdown",
      "source": [
        "# This notebook cover the following concept\n",
        "\n",
        "1.   Loop\n",
        "2.   Loops in python\n",
        "3.   User define function in python\n",
        "\n",
        "\n",
        "\n",
        "\n"
      ],
      "metadata": {
        "id": "YOo5Uj82xESV"
      }
    },
    {
      "cell_type": "markdown",
      "source": [
        "##**What is loop?**\n",
        "\n",
        "A loop is a programmig concept that allow for the repetation of a set instructions multiple times"
      ],
      "metadata": {
        "id": "NG-vuXXSxe7H"
      }
    },
    {
      "cell_type": "markdown",
      "source": [
        "#**Python - For Loop**\n",
        "\n",
        "A for loop is used for iterating over a sequence (that either a list, a tuple,a dictionary, a set or a string) with the for loop we can execute a set of statements,once for each item in a list, tuple, set etc"
      ],
      "metadata": {
        "id": "OWiCdDO2x8DG"
      }
    },
    {
      "cell_type": "code",
      "source": [
        "# print the hello world using the print statements\n",
        "print(\"hello world\")\n",
        "print(\"hello world\")\n",
        "print(\"hello world\")\n",
        "print(\"hello world\")\n",
        "print(\"hello world\")\n",
        "print(\"hello world\")\n",
        "print(\"hello world\")\n",
        "print(\"hello world\")\n",
        "print(\"hello world\")\n",
        "print(\"hello world\")"
      ],
      "metadata": {
        "colab": {
          "base_uri": "https://localhost:8080/"
        },
        "id": "TmnCxLHBzx0F",
        "outputId": "4603c663-d712-47ba-aec4-953c45f979ce"
      },
      "execution_count": 2,
      "outputs": [
        {
          "output_type": "stream",
          "name": "stdout",
          "text": [
            "hello world\n",
            "hello world\n",
            "hello world\n",
            "hello world\n",
            "hello world\n",
            "hello world\n",
            "hello world\n",
            "hello world\n",
            "hello world\n",
            "hello world\n"
          ]
        }
      ]
    },
    {
      "cell_type": "code",
      "source": [
        "# print the str specific number of times\n",
        "for i in range(10):\n",
        "  print(\"hello world\")\n",
        "  print(\"hello pakistan\")"
      ],
      "metadata": {
        "colab": {
          "base_uri": "https://localhost:8080/"
        },
        "id": "X0wvKbEz0S6y",
        "outputId": "fccf6fc7-d484-4b80-e31d-1393e937a661"
      },
      "execution_count": 5,
      "outputs": [
        {
          "output_type": "stream",
          "name": "stdout",
          "text": [
            "hello world\n",
            "hello pakistan\n",
            "hello world\n",
            "hello pakistan\n",
            "hello world\n",
            "hello pakistan\n",
            "hello world\n",
            "hello pakistan\n",
            "hello world\n",
            "hello pakistan\n",
            "hello world\n",
            "hello pakistan\n",
            "hello world\n",
            "hello pakistan\n",
            "hello world\n",
            "hello pakistan\n",
            "hello world\n",
            "hello pakistan\n",
            "hello world\n",
            "hello pakistan\n"
          ]
        }
      ]
    },
    {
      "cell_type": "code",
      "source": [
        "# print each fruit in a fruit list\n",
        "fruits = [\"apple\", \"banana\", \"cherry\"]\n",
        "for item in fruits:\n",
        "  print(item)"
      ],
      "metadata": {
        "colab": {
          "base_uri": "https://localhost:8080/"
        },
        "id": "dpJC-BTC2laT",
        "outputId": "c7088da4-78e7-4db1-f854-bce3b39b52c3"
      },
      "execution_count": 8,
      "outputs": [
        {
          "output_type": "stream",
          "name": "stdout",
          "text": [
            "apple\n",
            "banana\n",
            "cherry\n"
          ]
        }
      ]
    },
    {
      "cell_type": "code",
      "source": [
        "#printing the list\n",
        "print(fruits)"
      ],
      "metadata": {
        "colab": {
          "base_uri": "https://localhost:8080/"
        },
        "id": "AjCh2x5c2xSP",
        "outputId": "08ce5242-c14c-444b-f815-85e26bba38d4"
      },
      "execution_count": 7,
      "outputs": [
        {
          "output_type": "stream",
          "name": "stdout",
          "text": [
            "['apple', 'banana', 'cherry']\n"
          ]
        }
      ]
    },
    {
      "cell_type": "code",
      "source": [
        "# print each value in my_list ,list\n",
        "my_list=[10,20,30,40,50,60]\n",
        "\n",
        "for x in my_list:   #<--- x is variable who's scope is limited to the for loop, x can be named anything you'd like\n",
        "  print(x)"
      ],
      "metadata": {
        "colab": {
          "base_uri": "https://localhost:8080/"
        },
        "id": "ooBsMYQC4Ed5",
        "outputId": "0cc8d545-b921-4828-c869-f2c43040f73d"
      },
      "execution_count": 10,
      "outputs": [
        {
          "output_type": "stream",
          "name": "stdout",
          "text": [
            "10\n",
            "20\n",
            "30\n",
            "40\n",
            "50\n",
            "60\n"
          ]
        }
      ]
    },
    {
      "cell_type": "markdown",
      "source": [
        "#**Looping through string**\n",
        "\n",
        "Even str are iterable object they contain sequence of characters:\n",
        "\n",
        "Loop through the letters in the word \"Banana\""
      ],
      "metadata": {
        "id": "lvDOgzob41L9"
      }
    },
    {
      "cell_type": "code",
      "source": [
        "for x in \"banana\":\n",
        "  print(x)"
      ],
      "metadata": {
        "colab": {
          "base_uri": "https://localhost:8080/"
        },
        "id": "8u7XA08q5Sbu",
        "outputId": "dd3ab62b-2d6a-4805-bbc6-431a12fa4d5b"
      },
      "execution_count": 1,
      "outputs": [
        {
          "output_type": "stream",
          "name": "stdout",
          "text": [
            "b\n",
            "a\n",
            "n\n",
            "a\n",
            "n\n",
            "a\n"
          ]
        }
      ]
    },
    {
      "cell_type": "markdown",
      "source": [
        "#**The range() function**\n",
        "\n",
        "in most cases, we will want to loop through a predetermined list. However we can also generate a list to loop over 'on the fly'with range()"
      ],
      "metadata": {
        "id": "tgERrB_m53XF"
      }
    },
    {
      "cell_type": "code",
      "source": [
        "for i in range(8):\n",
        "  print(i)"
      ],
      "metadata": {
        "colab": {
          "base_uri": "https://localhost:8080/"
        },
        "id": "4LcpjcD16jXC",
        "outputId": "4aa7a4dd-7d18-4947-a05f-9a91d85e0ed2"
      },
      "execution_count": 9,
      "outputs": [
        {
          "output_type": "stream",
          "name": "stdout",
          "text": [
            "0\n",
            "1\n",
            "2\n",
            "3\n",
            "4\n",
            "5\n",
            "6\n",
            "7\n"
          ]
        }
      ]
    },
    {
      "cell_type": "code",
      "source": [
        "for num in range(1,6):\n",
        "  print(num)"
      ],
      "metadata": {
        "colab": {
          "base_uri": "https://localhost:8080/"
        },
        "id": "ECTlQmvI9NUM",
        "outputId": "572a4fc2-e7b6-45f7-84f9-b4d05d46ace3"
      },
      "execution_count": 17,
      "outputs": [
        {
          "output_type": "stream",
          "name": "stdout",
          "text": [
            "1\n",
            "2\n",
            "3\n",
            "4\n",
            "5\n"
          ]
        }
      ]
    },
    {
      "cell_type": "code",
      "source": [
        "# using for loop to print the items of list and their index\n",
        "my_list=[10,20,30,40,50,60]\n",
        "for i in range(len(my_list)):\n",
        "  print(i,my_list[i])\n"
      ],
      "metadata": {
        "id": "UvAyybQG_GL0",
        "outputId": "d49c769f-d4d4-44e4-8f15-bbf1b8f1646b",
        "colab": {
          "base_uri": "https://localhost:8080/"
        }
      },
      "execution_count": 5,
      "outputs": [
        {
          "output_type": "stream",
          "name": "stdout",
          "text": [
            "0 10\n",
            "1 20\n",
            "2 30\n",
            "3 40\n",
            "4 50\n",
            "5 60\n"
          ]
        }
      ]
    },
    {
      "cell_type": "code",
      "source": [
        "# getting length of list using len()function\n",
        "my_list=[10,20,30,40,50,60]\n",
        "print(len(my_list))\n"
      ],
      "metadata": {
        "id": "USOIeQn3_tpb",
        "outputId": "ffcd9882-f674-4ae0-bdad-be0abda151f5",
        "colab": {
          "base_uri": "https://localhost:8080/"
        }
      },
      "execution_count": 24,
      "outputs": [
        {
          "output_type": "stream",
          "name": "stdout",
          "text": [
            "6\n"
          ]
        }
      ]
    },
    {
      "cell_type": "code",
      "source": [
        "my_list=[10,20,30,40,50,60]\n",
        "for my in my_list:\n",
        "  print(my)"
      ],
      "metadata": {
        "id": "6YufZx9reNep",
        "outputId": "28ec5aee-d2da-4651-fe08-6671ee398e20",
        "colab": {
          "base_uri": "https://localhost:8080/"
        }
      },
      "execution_count": 6,
      "outputs": [
        {
          "output_type": "stream",
          "name": "stdout",
          "text": [
            "10\n",
            "20\n",
            "30\n",
            "40\n",
            "50\n",
            "60\n"
          ]
        }
      ]
    },
    {
      "cell_type": "markdown",
      "source": [
        "#**Looping through a dict**\n",
        "\n",
        "keys() you can step through the keys of a dict"
      ],
      "metadata": {
        "id": "oNP810yXCvh7"
      }
    },
    {
      "cell_type": "code",
      "source": [
        "# print values from the dict\n",
        "my_dict={\"brand\": \"ford\", \"model\" : \"mustang\", \"year\" : \"1964\"}\n",
        "for values in my_dict.values():\n",
        "  print(values)\n",
        ""
      ],
      "metadata": {
        "id": "pMGpCEr6DCwv",
        "outputId": "03e84006-a7c1-4e66-8bf3-bf01840ae328",
        "colab": {
          "base_uri": "https://localhost:8080/"
        }
      },
      "execution_count": 35,
      "outputs": [
        {
          "output_type": "stream",
          "name": "stdout",
          "text": [
            "ford\n",
            "mustang\n",
            "1964\n"
          ]
        }
      ]
    },
    {
      "cell_type": "code",
      "source": [
        "# printing keys from the dict\n",
        "my_dict={\"brand\": \"ford\", \"model\" : \"mustang\", \"year\" : \"1964\"}\n",
        "for keys in my_dict.keys():\n",
        "  print(keys)"
      ],
      "metadata": {
        "id": "fVRtsuzIFPg8",
        "outputId": "15662182-6182-462d-8d8f-2e4bbd05d1a2",
        "colab": {
          "base_uri": "https://localhost:8080/"
        }
      },
      "execution_count": 36,
      "outputs": [
        {
          "output_type": "stream",
          "name": "stdout",
          "text": [
            "brand\n",
            "model\n",
            "year\n"
          ]
        }
      ]
    },
    {
      "cell_type": "code",
      "source": [
        "my_dict={\"brand\": \"ford\", \"model\" : \"mustang\", \"year\" : \"1964\"}\n",
        "for d in my_dict.items():\n",
        "  print(d)"
      ],
      "metadata": {
        "id": "lLBvDG9heh4P",
        "outputId": "dd47d0d4-7fdb-4e48-8ec2-a86d455b77bf",
        "colab": {
          "base_uri": "https://localhost:8080/"
        }
      },
      "execution_count": 12,
      "outputs": [
        {
          "output_type": "stream",
          "name": "stdout",
          "text": [
            "('brand', 'ford')\n",
            "('model', 'mustang')\n",
            "('year', '1964')\n"
          ]
        }
      ]
    },
    {
      "cell_type": "markdown",
      "source": [
        "#**Python functions**\n",
        "\n",
        "A function is a block of code which only runs when it is called.\n",
        "\n",
        "You can pass data known as parameters into a function.\n",
        "\n",
        "A function can return data as a result."
      ],
      "metadata": {
        "id": "kmJkHnvhGZuI"
      }
    },
    {
      "cell_type": "markdown",
      "source": [
        "#**Creating function**\n",
        "In python a function is defined usign the def keyword"
      ],
      "metadata": {
        "id": "ASSmi3GsHFLU"
      }
    },
    {
      "cell_type": "code",
      "source": [
        "# syntax\n",
        "def function_name():"
      ],
      "metadata": {
        "id": "W3n4dsYaHdPi"
      },
      "execution_count": null,
      "outputs": []
    },
    {
      "cell_type": "code",
      "source": [
        "def my_function():\n",
        "  print(\"hello from a function\")"
      ],
      "metadata": {
        "id": "J_z4lJuZheCI"
      },
      "execution_count": 13,
      "outputs": []
    },
    {
      "cell_type": "markdown",
      "source": [
        "#**Calling a function**\n",
        "\n",
        "To call a function, use the function name followed by parenthesis"
      ],
      "metadata": {
        "id": "7h1pKdx4iE-w"
      }
    },
    {
      "cell_type": "code",
      "source": [
        "def my_function():\n",
        "  print(\"hello from a function\")\n",
        "\n",
        "my_function()"
      ],
      "metadata": {
        "id": "BG-1TnI-ilOv",
        "outputId": "e269601e-6269-42b4-82f9-fc9521684d72",
        "colab": {
          "base_uri": "https://localhost:8080/"
        }
      },
      "execution_count": 14,
      "outputs": [
        {
          "output_type": "stream",
          "name": "stdout",
          "text": [
            "hello from a function\n"
          ]
        }
      ]
    },
    {
      "cell_type": "markdown",
      "source": [
        "#**Arguments**\n",
        "Information can be passed into a functions as arguments.\n",
        "\n",
        "Arguments are specified after function name, in side parenthesis. You can add as many arguments as you want, just separate them with a comma.\n",
        "\n",
        "The following example has a function with one argument (fname). When the function is called, we pass along a first name, which is used inside the function to print the full name:"
      ],
      "metadata": {
        "id": "lGaZN29IipH7"
      }
    },
    {
      "cell_type": "code",
      "source": [
        "# function with parameters\n",
        "def add_numbers(a,b):\n",
        "  sum=a+b\n",
        "  return sum\n",
        "result=add_numbers(5,4)\n",
        "print(\"the sum is\",result)"
      ],
      "metadata": {
        "id": "a061_x9qkbHp",
        "outputId": "3316a10e-0602-4c4d-84ce-cdf880a768fd",
        "colab": {
          "base_uri": "https://localhost:8080/"
        }
      },
      "execution_count": 20,
      "outputs": [
        {
          "output_type": "stream",
          "name": "stdout",
          "text": [
            "the sum is 9\n"
          ]
        }
      ]
    },
    {
      "cell_type": "markdown",
      "source": [
        "#**Parameters or Arguments?**\n",
        "The terms parameter and argument can be used for the same thing: information that are passed into a function.\n",
        "\n",
        "From a function's perspective:\n",
        "\n",
        "A parameter is the variable listed inside the parentheses in the function definition.\n",
        "\n",
        "An argument is the value that is sent to the function when it is called."
      ],
      "metadata": {
        "id": "IR7nk636n4Yb"
      }
    },
    {
      "cell_type": "markdown",
      "source": [
        "E.g if you send a list as an argument it will still be a list when it reaches the function"
      ],
      "metadata": {
        "id": "k6nudkmKrHGA"
      }
    },
    {
      "cell_type": "code",
      "source": [
        "  def my_function(food):\n",
        "    for x in food:\n",
        "      print(x)\n",
        "fruits=[\"apple\",\"banana\",\"cherry\"]\n",
        "my_function(fruits)"
      ],
      "metadata": {
        "id": "PEBtlI1Ollz7",
        "outputId": "1820b4cc-8482-44da-bf82-86f50176e922",
        "colab": {
          "base_uri": "https://localhost:8080/"
        }
      },
      "execution_count": 21,
      "outputs": [
        {
          "output_type": "stream",
          "name": "stdout",
          "text": [
            "apple\n",
            "banana\n",
            "cherry\n"
          ]
        }
      ]
    },
    {
      "cell_type": "markdown",
      "source": [
        "#**Return Values**\n",
        "to let a function return a value use return statement"
      ],
      "metadata": {
        "id": "Zr18IBYvseNP"
      }
    },
    {
      "cell_type": "code",
      "source": [
        "def my_function(x):\n",
        "  return 5*x\n",
        "print(my_function(3))\n",
        "print(my_function(5))\n",
        "print(my_function(9))"
      ],
      "metadata": {
        "id": "3HtTplrWs2Q7",
        "outputId": "32011340-a274-41a7-fabf-03da52f285ca",
        "colab": {
          "base_uri": "https://localhost:8080/"
        }
      },
      "execution_count": 23,
      "outputs": [
        {
          "output_type": "stream",
          "name": "stdout",
          "text": [
            "15\n",
            "25\n",
            "45\n"
          ]
        }
      ]
    },
    {
      "cell_type": "code",
      "source": [
        "# function with default parameter\n",
        "def greet_person(name=\"world\"):\n",
        "  print(\"hello\",name)\n",
        "\n",
        "#calling the function withount an argument\n",
        "\n",
        "greet_person()\n",
        "\n",
        "# calling the function with an argunment\n",
        "\n",
        "greet_person(\"Ali\")"
      ],
      "metadata": {
        "id": "qpw5miuAuOmQ",
        "outputId": "1d03997f-a062-4dc7-bd2a-1dcd30904a16",
        "colab": {
          "base_uri": "https://localhost:8080/"
        }
      },
      "execution_count": 24,
      "outputs": [
        {
          "output_type": "stream",
          "name": "stdout",
          "text": [
            "hello world\n",
            "hello Ali\n"
          ]
        }
      ]
    }
  ]
}