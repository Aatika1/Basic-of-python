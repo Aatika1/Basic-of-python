{
  "nbformat": 4,
  "nbformat_minor": 0,
  "metadata": {
    "colab": {
      "provenance": [],
      "authorship_tag": "ABX9TyOgO0+fM8Yfmq8pU25+lhbO",
      "include_colab_link": true
    },
    "kernelspec": {
      "name": "python3",
      "display_name": "Python 3"
    },
    "language_info": {
      "name": "python"
    }
  },
  "cells": [
    {
      "cell_type": "markdown",
      "metadata": {
        "id": "view-in-github",
        "colab_type": "text"
      },
      "source": [
        "<a href=\"https://colab.research.google.com/github/Aatika1/Basic-of-python/blob/main/Lecture_7_stage3_basics_of_python.ipynb\" target=\"_parent\"><img src=\"https://colab.research.google.com/assets/colab-badge.svg\" alt=\"Open In Colab\"/></a>"
      ]
    },
    {
      "cell_type": "markdown",
      "source": [
        "# This notebook cover the following concept\n",
        "\n",
        "1.   Loop\n",
        "2.   Loops in python\n",
        "3.   User define function in python\n",
        "\n",
        "\n",
        "\n",
        "\n"
      ],
      "metadata": {
        "id": "YOo5Uj82xESV"
      }
    },
    {
      "cell_type": "markdown",
      "source": [
        "##**What is loop?**\n",
        "\n",
        "A loop is a programmig concept that allow for the repetation of a set instructions multiple times"
      ],
      "metadata": {
        "id": "NG-vuXXSxe7H"
      }
    },
    {
      "cell_type": "markdown",
      "source": [
        "#**Python - For Loop**\n",
        "\n",
        "A for loop is used for iterating over a sequence (that either a list, a tuple,a dictionary, a set or a string) with the for loop we can execute a set of statements,once for each item in a list, tuple, set etc"
      ],
      "metadata": {
        "id": "OWiCdDO2x8DG"
      }
    },
    {
      "cell_type": "code",
      "source": [
        "# print the hello world using the print statements\n",
        "print(\"hello world\")\n",
        "print(\"hello world\")\n",
        "print(\"hello world\")\n",
        "print(\"hello world\")\n",
        "print(\"hello world\")\n",
        "print(\"hello world\")\n",
        "print(\"hello world\")\n",
        "print(\"hello world\")\n",
        "print(\"hello world\")\n",
        "print(\"hello world\")"
      ],
      "metadata": {
        "colab": {
          "base_uri": "https://localhost:8080/"
        },
        "id": "TmnCxLHBzx0F",
        "outputId": "4603c663-d712-47ba-aec4-953c45f979ce"
      },
      "execution_count": null,
      "outputs": [
        {
          "output_type": "stream",
          "name": "stdout",
          "text": [
            "hello world\n",
            "hello world\n",
            "hello world\n",
            "hello world\n",
            "hello world\n",
            "hello world\n",
            "hello world\n",
            "hello world\n",
            "hello world\n",
            "hello world\n"
          ]
        }
      ]
    },
    {
      "cell_type": "code",
      "source": [
        "# print the str specific number of times\n",
        "for i in range(10):\n",
        "  print(\"hello world\")\n",
        "  print(\"hello pakistan\")"
      ],
      "metadata": {
        "colab": {
          "base_uri": "https://localhost:8080/"
        },
        "id": "X0wvKbEz0S6y",
        "outputId": "fccf6fc7-d484-4b80-e31d-1393e937a661"
      },
      "execution_count": null,
      "outputs": [
        {
          "output_type": "stream",
          "name": "stdout",
          "text": [
            "hello world\n",
            "hello pakistan\n",
            "hello world\n",
            "hello pakistan\n",
            "hello world\n",
            "hello pakistan\n",
            "hello world\n",
            "hello pakistan\n",
            "hello world\n",
            "hello pakistan\n",
            "hello world\n",
            "hello pakistan\n",
            "hello world\n",
            "hello pakistan\n",
            "hello world\n",
            "hello pakistan\n",
            "hello world\n",
            "hello pakistan\n",
            "hello world\n",
            "hello pakistan\n"
          ]
        }
      ]
    },
    {
      "cell_type": "code",
      "source": [
        "# print each fruit in a fruit list\n",
        "fruits = [\"apple\", \"banana\", \"cherry\"]\n",
        "for item in fruits:\n",
        "  print(item)"
      ],
      "metadata": {
        "colab": {
          "base_uri": "https://localhost:8080/"
        },
        "id": "dpJC-BTC2laT",
        "outputId": "c7088da4-78e7-4db1-f854-bce3b39b52c3"
      },
      "execution_count": null,
      "outputs": [
        {
          "output_type": "stream",
          "name": "stdout",
          "text": [
            "apple\n",
            "banana\n",
            "cherry\n"
          ]
        }
      ]
    },
    {
      "cell_type": "code",
      "source": [
        "#printing the list\n",
        "print(fruits)"
      ],
      "metadata": {
        "colab": {
          "base_uri": "https://localhost:8080/"
        },
        "id": "AjCh2x5c2xSP",
        "outputId": "08ce5242-c14c-444b-f815-85e26bba38d4"
      },
      "execution_count": null,
      "outputs": [
        {
          "output_type": "stream",
          "name": "stdout",
          "text": [
            "['apple', 'banana', 'cherry']\n"
          ]
        }
      ]
    },
    {
      "cell_type": "code",
      "source": [
        "# print each value in my_list ,list\n",
        "my_list=[10,20,30,40,50,60]\n",
        "\n",
        "for x in my_list:   #<--- x is variable who's scope is limited to the for loop, x can be named anything you'd like\n",
        "  print(x)"
      ],
      "metadata": {
        "colab": {
          "base_uri": "https://localhost:8080/"
        },
        "id": "ooBsMYQC4Ed5",
        "outputId": "0cc8d545-b921-4828-c869-f2c43040f73d"
      },
      "execution_count": null,
      "outputs": [
        {
          "output_type": "stream",
          "name": "stdout",
          "text": [
            "10\n",
            "20\n",
            "30\n",
            "40\n",
            "50\n",
            "60\n"
          ]
        }
      ]
    },
    {
      "cell_type": "markdown",
      "source": [
        "#**Looping through string**\n",
        "\n",
        "Even str are iterable object they contain sequence of characters:\n",
        "\n",
        "Loop through the letters in the word \"Banana\""
      ],
      "metadata": {
        "id": "lvDOgzob41L9"
      }
    },
    {
      "cell_type": "code",
      "source": [
        "for x in \"banana\":\n",
        "  print(x)"
      ],
      "metadata": {
        "colab": {
          "base_uri": "https://localhost:8080/"
        },
        "id": "8u7XA08q5Sbu",
        "outputId": "dd3ab62b-2d6a-4805-bbc6-431a12fa4d5b"
      },
      "execution_count": null,
      "outputs": [
        {
          "output_type": "stream",
          "name": "stdout",
          "text": [
            "b\n",
            "a\n",
            "n\n",
            "a\n",
            "n\n",
            "a\n"
          ]
        }
      ]
    },
    {
      "cell_type": "markdown",
      "source": [
        "#**The range() function**\n",
        "\n",
        "in most cases, we will want to loop through a predetermined list. However we can also generate a list to loop over 'on the fly'with range()"
      ],
      "metadata": {
        "id": "tgERrB_m53XF"
      }
    },
    {
      "cell_type": "code",
      "source": [
        "for i in range(8):\n",
        "  print(i)"
      ],
      "metadata": {
        "colab": {
          "base_uri": "https://localhost:8080/"
        },
        "id": "4LcpjcD16jXC",
        "outputId": "4aa7a4dd-7d18-4947-a05f-9a91d85e0ed2"
      },
      "execution_count": null,
      "outputs": [
        {
          "output_type": "stream",
          "name": "stdout",
          "text": [
            "0\n",
            "1\n",
            "2\n",
            "3\n",
            "4\n",
            "5\n",
            "6\n",
            "7\n"
          ]
        }
      ]
    },
    {
      "cell_type": "code",
      "source": [
        "for num in range(1,6):\n",
        "  print(num)"
      ],
      "metadata": {
        "colab": {
          "base_uri": "https://localhost:8080/"
        },
        "id": "ECTlQmvI9NUM",
        "outputId": "572a4fc2-e7b6-45f7-84f9-b4d05d46ace3"
      },
      "execution_count": null,
      "outputs": [
        {
          "output_type": "stream",
          "name": "stdout",
          "text": [
            "1\n",
            "2\n",
            "3\n",
            "4\n",
            "5\n"
          ]
        }
      ]
    },
    {
      "cell_type": "code",
      "source": [
        "# using for loop to print the items of list and their index\n",
        "my_list=[10,20,30,40,50,60]\n",
        "for i in range(len(my_list)):\n",
        "  print(i,my_list[i])\n"
      ],
      "metadata": {
        "id": "UvAyybQG_GL0",
        "outputId": "1fd6e1ee-dfea-48c5-ad2d-6d8c65cd76ae",
        "colab": {
          "base_uri": "https://localhost:8080/"
        }
      },
      "execution_count": 5,
      "outputs": [
        {
          "output_type": "stream",
          "name": "stdout",
          "text": [
            "0 10\n",
            "1 20\n",
            "2 30\n",
            "3 40\n",
            "4 50\n",
            "5 60\n"
          ]
        }
      ]
    },
    {
      "cell_type": "code",
      "source": [
        "# getting length of list using len()function\n",
        "my_list=[10,20,30,40,50,60]\n",
        "print(len(my_list))\n"
      ],
      "metadata": {
        "id": "USOIeQn3_tpb",
        "outputId": "e3e3bce7-1e60-4b32-9c5c-9c7fd014ed47",
        "colab": {
          "base_uri": "https://localhost:8080/"
        }
      },
      "execution_count": 2,
      "outputs": [
        {
          "output_type": "stream",
          "name": "stdout",
          "text": [
            "6\n"
          ]
        }
      ]
    },
    {
      "cell_type": "code",
      "source": [
        "my_list=[10,20,30,40,50,60]\n",
        "for my in my_list:\n",
        "  print(my)"
      ],
      "metadata": {
        "id": "6YufZx9reNep",
        "outputId": "28ec5aee-d2da-4651-fe08-6671ee398e20",
        "colab": {
          "base_uri": "https://localhost:8080/"
        }
      },
      "execution_count": null,
      "outputs": [
        {
          "output_type": "stream",
          "name": "stdout",
          "text": [
            "10\n",
            "20\n",
            "30\n",
            "40\n",
            "50\n",
            "60\n"
          ]
        }
      ]
    },
    {
      "cell_type": "markdown",
      "source": [
        "#**Looping through a dict**\n",
        "\n",
        "keys() you can step through the keys of a dict"
      ],
      "metadata": {
        "id": "oNP810yXCvh7"
      }
    },
    {
      "cell_type": "code",
      "source": [
        "# print values from the dict\n",
        "my_dict={\"brand\": \"ford\", \"model\" : \"mustang\", \"year\" : \"1964\"}\n",
        "for values in my_dict.values():\n",
        "  print(values)\n"
      ],
      "metadata": {
        "id": "pMGpCEr6DCwv",
        "outputId": "03e84006-a7c1-4e66-8bf3-bf01840ae328",
        "colab": {
          "base_uri": "https://localhost:8080/"
        }
      },
      "execution_count": null,
      "outputs": [
        {
          "output_type": "stream",
          "name": "stdout",
          "text": [
            "ford\n",
            "mustang\n",
            "1964\n"
          ]
        }
      ]
    },
    {
      "cell_type": "code",
      "source": [
        "# printing keys from the dict\n",
        "my_dict={\"brand\": \"ford\", \"model\" : \"mustang\", \"year\" : \"1964\"}\n",
        "for keys in my_dict.keys():\n",
        "  print(keys)"
      ],
      "metadata": {
        "id": "fVRtsuzIFPg8",
        "outputId": "15662182-6182-462d-8d8f-2e4bbd05d1a2",
        "colab": {
          "base_uri": "https://localhost:8080/"
        }
      },
      "execution_count": null,
      "outputs": [
        {
          "output_type": "stream",
          "name": "stdout",
          "text": [
            "brand\n",
            "model\n",
            "year\n"
          ]
        }
      ]
    },
    {
      "cell_type": "code",
      "source": [
        "numbers=[1,2,3,4,5,6,7,8,9,10]\n",
        "for num in numbers:\n",
        "  if num%2==0:\n",
        "    print(num,\"is an even number\")"
      ],
      "metadata": {
        "id": "n6X7qLURQoOJ",
        "outputId": "a7ae7ae3-17e5-42a4-8b17-3ba86534146a",
        "colab": {
          "base_uri": "https://localhost:8080/"
        }
      },
      "execution_count": 7,
      "outputs": [
        {
          "output_type": "stream",
          "name": "stdout",
          "text": [
            "2 is an even number\n",
            "4 is an even number\n",
            "6 is an even number\n",
            "8 is an even number\n",
            "10 is an even number\n"
          ]
        }
      ]
    },
    {
      "cell_type": "code",
      "source": [
        "numbers=[1,2,3,4,5,6,7,8,9,10]\n",
        "for nums in numbers:\n",
        "  if nums%2!=0:\n",
        "    print(nums,\"is an odd number\")"
      ],
      "metadata": {
        "id": "mbZjVGLDRy_V",
        "outputId": "4c0acee4-d4f0-42c6-981d-f9707edef5b5",
        "colab": {
          "base_uri": "https://localhost:8080/"
        }
      },
      "execution_count": 8,
      "outputs": [
        {
          "output_type": "stream",
          "name": "stdout",
          "text": [
            "1 is an odd number\n",
            "3 is an odd number\n",
            "5 is an odd number\n",
            "7 is an odd number\n",
            "9 is an odd number\n"
          ]
        }
      ]
    },
    {
      "cell_type": "code",
      "source": [
        "my_dict={\"brand\": \"ford\", \"model\" : \"mustang\", \"year\" : \"1964\"}\n",
        "for d in my_dict.items():\n",
        "  print(d)"
      ],
      "metadata": {
        "id": "lLBvDG9heh4P",
        "outputId": "cf39423e-c7f2-4338-de34-17f19bd30c96",
        "colab": {
          "base_uri": "https://localhost:8080/"
        }
      },
      "execution_count": 9,
      "outputs": [
        {
          "output_type": "stream",
          "name": "stdout",
          "text": [
            "('brand', 'ford')\n",
            "('model', 'mustang')\n",
            "('year', '1964')\n"
          ]
        }
      ]
    },
    {
      "cell_type": "markdown",
      "source": [
        "#**Python while loop**\n",
        "with the while loop we can execute a set of statements as long as a condition is true."
      ],
      "metadata": {
        "id": "-4UEjjGnSFPd"
      }
    },
    {
      "cell_type": "code",
      "source": [
        "# Print i as long as i is less than 60:\n",
        "i=1\n",
        "while i < 60:\n",
        "  print(i)\n",
        "  i=i+1"
      ],
      "metadata": {
        "id": "IqU_yNUZSpkX",
        "outputId": "121c2ff1-25d4-45d9-9202-4529229e06aa",
        "colab": {
          "base_uri": "https://localhost:8080/"
        }
      },
      "execution_count": 1,
      "outputs": [
        {
          "output_type": "stream",
          "name": "stdout",
          "text": [
            "1\n",
            "2\n",
            "3\n",
            "4\n",
            "5\n",
            "6\n",
            "7\n",
            "8\n",
            "9\n",
            "10\n",
            "11\n",
            "12\n",
            "13\n",
            "14\n",
            "15\n",
            "16\n",
            "17\n",
            "18\n",
            "19\n",
            "20\n",
            "21\n",
            "22\n",
            "23\n",
            "24\n",
            "25\n",
            "26\n",
            "27\n",
            "28\n",
            "29\n",
            "30\n",
            "31\n",
            "32\n",
            "33\n",
            "34\n",
            "35\n",
            "36\n",
            "37\n",
            "38\n",
            "39\n",
            "40\n",
            "41\n",
            "42\n",
            "43\n",
            "44\n",
            "45\n",
            "46\n",
            "47\n",
            "48\n",
            "49\n",
            "50\n",
            "51\n",
            "52\n",
            "53\n",
            "54\n",
            "55\n",
            "56\n",
            "57\n",
            "58\n",
            "59\n"
          ]
        }
      ]
    },
    {
      "cell_type": "code",
      "source": [
        "#while loop\n",
        "count = 0\n",
        "while (count < 3):\n",
        "  count=count+1\n",
        "  print(\"print hello\",count)"
      ],
      "metadata": {
        "id": "aE-qUNaTi8vE",
        "outputId": "eab603e5-f0be-4887-fbaf-98403cdd1380",
        "colab": {
          "base_uri": "https://localhost:8080/"
        }
      },
      "execution_count": 2,
      "outputs": [
        {
          "output_type": "stream",
          "name": "stdout",
          "text": [
            "print hello 1\n",
            "print hello 2\n",
            "print hello 3\n"
          ]
        }
      ]
    },
    {
      "cell_type": "code",
      "source": [
        "# user validation\n",
        "password = \"\"\n",
        "while password != \"secret\":\n",
        "   password =input(\"enter the password: \")\n",
        "   if password == \"secret\":\n",
        "    print(\"Access granted\")\n",
        "   else:\n",
        "    print(\"Access denied\")\n"
      ],
      "metadata": {
        "id": "hA7dJ8DkjaFQ"
      },
      "execution_count": 8,
      "outputs": []
    },
    {
      "cell_type": "code",
      "source": [
        "t=0\n",
        "n=1\n",
        "while n <=20:\n",
        "  t=t+n\n",
        "  n=n+1\n",
        "print(t)\n"
      ],
      "metadata": {
        "id": "EVuO0gHBTeht",
        "outputId": "8be7cf3c-7f7d-4b0b-bdf6-005561fe4a8e",
        "colab": {
          "base_uri": "https://localhost:8080/"
        }
      },
      "execution_count": 9,
      "outputs": [
        {
          "output_type": "stream",
          "name": "stdout",
          "text": [
            "210\n"
          ]
        }
      ]
    },
    {
      "cell_type": "code",
      "source": [
        "#Summing numbers\n",
        "total = 0\n",
        "num = 1\n",
        "while num <= 10:\n",
        "  total = total + num\n",
        "  num = num +1\n",
        "print(\"the sum is\",total)"
      ],
      "metadata": {
        "id": "U-EKLdoLksxU",
        "outputId": "0c7c930d-611c-4ed2-e13a-a8672b9ab97b",
        "colab": {
          "base_uri": "https://localhost:8080/"
        }
      },
      "execution_count": 5,
      "outputs": [
        {
          "output_type": "stream",
          "name": "stdout",
          "text": [
            "the sum is 55\n"
          ]
        }
      ]
    },
    {
      "cell_type": "markdown",
      "source": [
        "#**Python functions**\n",
        "\n",
        "A function is a block of code which only runs when it is called.\n",
        "\n",
        "You can pass data known as parameters into a function.\n",
        "\n",
        "A function can return data as a result."
      ],
      "metadata": {
        "id": "kmJkHnvhGZuI"
      }
    },
    {
      "cell_type": "markdown",
      "source": [
        "#**Creating function**\n",
        "In python a function is defined usign the def keyword"
      ],
      "metadata": {
        "id": "ASSmi3GsHFLU"
      }
    },
    {
      "cell_type": "code",
      "source": [
        "# syntax\n",
        "def function_name():"
      ],
      "metadata": {
        "id": "W3n4dsYaHdPi"
      },
      "execution_count": null,
      "outputs": []
    },
    {
      "cell_type": "code",
      "source": [
        "def my_function():\n",
        "  print(\"hello from a function\")"
      ],
      "metadata": {
        "id": "J_z4lJuZheCI"
      },
      "execution_count": null,
      "outputs": []
    },
    {
      "cell_type": "markdown",
      "source": [
        "#**Calling a function**\n",
        "\n",
        "To call a function, use the function name followed by parenthesis"
      ],
      "metadata": {
        "id": "7h1pKdx4iE-w"
      }
    },
    {
      "cell_type": "code",
      "source": [
        "def my_function():\n",
        "  print(\"hello from a function\")\n",
        "\n",
        "my_function()"
      ],
      "metadata": {
        "id": "BG-1TnI-ilOv",
        "outputId": "e269601e-6269-42b4-82f9-fc9521684d72",
        "colab": {
          "base_uri": "https://localhost:8080/"
        }
      },
      "execution_count": null,
      "outputs": [
        {
          "output_type": "stream",
          "name": "stdout",
          "text": [
            "hello from a function\n"
          ]
        }
      ]
    },
    {
      "cell_type": "markdown",
      "source": [
        "#**Arguments**\n",
        "Information can be passed into a functions as arguments.\n",
        "\n",
        "Arguments are specified after function name, in side parenthesis. You can add as many arguments as you want, just separate them with a comma.\n",
        "\n",
        "The following example has a function with one argument (fname). When the function is called, we pass along a first name, which is used inside the function to print the full name:"
      ],
      "metadata": {
        "id": "lGaZN29IipH7"
      }
    },
    {
      "cell_type": "code",
      "source": [
        "# function with parameters\n",
        "def add_numbers(a,b): # a,b are variable,placeholder or parameters\n",
        "  sum=a+b\n",
        "  return sum\n",
        "result=add_numbers(5,4)\n",
        "print(\"the sum is\",result)"
      ],
      "metadata": {
        "id": "a061_x9qkbHp",
        "outputId": "3316a10e-0602-4c4d-84ce-cdf880a768fd",
        "colab": {
          "base_uri": "https://localhost:8080/"
        }
      },
      "execution_count": null,
      "outputs": [
        {
          "output_type": "stream",
          "name": "stdout",
          "text": [
            "the sum is 9\n"
          ]
        }
      ]
    },
    {
      "cell_type": "markdown",
      "source": [
        "#**Parameters or Arguments?**\n",
        "The terms parameter and argument can be used for the same thing: information that are passed into a function.\n",
        "\n",
        "From a function's perspective:\n",
        "\n",
        "A parameter is the variable listed inside the parentheses in the function definition.\n",
        "\n",
        "An argument is the value that is sent to the function when it is called."
      ],
      "metadata": {
        "id": "IR7nk636n4Yb"
      }
    },
    {
      "cell_type": "markdown",
      "source": [
        "E.g if you send a list as an argument it will still be a list when it reaches the function"
      ],
      "metadata": {
        "id": "k6nudkmKrHGA"
      }
    },
    {
      "cell_type": "code",
      "source": [
        "  def my_function(food):\n",
        "    for x in food:\n",
        "      print(x)\n"
      ],
      "metadata": {
        "id": "PEBtlI1Ollz7"
      },
      "execution_count": 10,
      "outputs": []
    },
    {
      "cell_type": "code",
      "source": [
        "fruits=[\"apple\",\"banana\",\"cherry\"]\n",
        "my_function(fruits)"
      ],
      "metadata": {
        "id": "kf7CdznBYTBo",
        "outputId": "3083b18c-3390-452c-d0be-7b672a27338b",
        "colab": {
          "base_uri": "https://localhost:8080/"
        }
      },
      "execution_count": 11,
      "outputs": [
        {
          "output_type": "stream",
          "name": "stdout",
          "text": [
            "apple\n",
            "banana\n",
            "cherry\n"
          ]
        }
      ]
    },
    {
      "cell_type": "markdown",
      "source": [
        "#**Return Values**\n",
        "to let a function return a value use return statement"
      ],
      "metadata": {
        "id": "Zr18IBYvseNP"
      }
    },
    {
      "cell_type": "code",
      "source": [
        "def my_function(x):\n",
        "  return  5*x\n",
        "print(my_function(3))\n",
        "print(my_function(5))\n",
        "print(my_function(9))"
      ],
      "metadata": {
        "id": "3HtTplrWs2Q7",
        "outputId": "52125da8-734b-4992-c9f0-32f3e906abff",
        "colab": {
          "base_uri": "https://localhost:8080/"
        }
      },
      "execution_count": 13,
      "outputs": [
        {
          "output_type": "stream",
          "name": "stdout",
          "text": [
            "15\n",
            "25\n",
            "45\n"
          ]
        }
      ]
    },
    {
      "cell_type": "code",
      "source": [
        "# function with default parameter\n",
        "def greet_person(name=\"world\"):\n",
        "  print(\"hello\",name)\n",
        "\n",
        "#calling the function withount an argument\n",
        "\n",
        "greet_person()\n",
        "\n",
        "# calling the function with an argunment\n",
        "\n",
        "greet_person(\"Ali\")"
      ],
      "metadata": {
        "id": "qpw5miuAuOmQ",
        "outputId": "381e3728-87ef-49e4-d236-2072e5a26812",
        "colab": {
          "base_uri": "https://localhost:8080/"
        }
      },
      "execution_count": 4,
      "outputs": [
        {
          "output_type": "stream",
          "name": "stdout",
          "text": [
            "hello world\n",
            "hello Ali\n"
          ]
        }
      ]
    },
    {
      "cell_type": "code",
      "source": [
        "# python program to find even or odd number\n",
        "def check_even_odd(number):\n",
        "  if number%2==0:\n",
        "    print(number,\"is an even number\")\n",
        "  else:\n",
        "    print(number,\"is an odd number\")\n",
        "#calling the function\n",
        "check_even_odd(7)\n"
      ],
      "metadata": {
        "id": "Y5I5I8B3Ow90",
        "outputId": "d42b7810-b7a4-4b39-ab12-857a8b0ef89b",
        "colab": {
          "base_uri": "https://localhost:8080/"
        }
      },
      "execution_count": 14,
      "outputs": [
        {
          "output_type": "stream",
          "name": "stdout",
          "text": [
            "7 is an odd number\n"
          ]
        }
      ]
    },
    {
      "cell_type": "code",
      "source": [
        "#Python program to count the number of words in a string\n",
        "def count_word(string):\n",
        "  words = string.split()\n",
        "  return len(words)\n",
        "\n",
        "#calling the function\n",
        "sentence=\"python is a popular programming language\"\n",
        "word_count=count_word(sentence)\n",
        "print(\"number of words\",word_count)"
      ],
      "metadata": {
        "id": "5GGLBuatPk2y",
        "outputId": "65c97dd7-bd7f-4d39-e429-fb00e4d44291",
        "colab": {
          "base_uri": "https://localhost:8080/"
        }
      },
      "execution_count": 17,
      "outputs": [
        {
          "output_type": "stream",
          "name": "stdout",
          "text": [
            "number of words 6\n"
          ]
        }
      ]
    }
  ]
}